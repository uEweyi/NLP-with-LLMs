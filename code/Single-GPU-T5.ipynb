{
  "nbformat": 4,
  "nbformat_minor": 0,
  "metadata": {
    "colab": {
      "provenance": [],
      "include_colab_link": true
    },
    "kernelspec": {
      "name": "python3",
      "display_name": "Python 3"
    },
    "language_info": {
      "name": "python"
    },
    "gpuClass": "standard",
    "accelerator": "GPU",
    "widgets": {
      "application/vnd.jupyter.widget-state+json": {
        "533a1eb282484fa29077b1a18ef4c422": {
          "model_module": "@jupyter-widgets/controls",
          "model_name": "HBoxModel",
          "model_module_version": "1.5.0",
          "state": {
            "_dom_classes": [],
            "_model_module": "@jupyter-widgets/controls",
            "_model_module_version": "1.5.0",
            "_model_name": "HBoxModel",
            "_view_count": null,
            "_view_module": "@jupyter-widgets/controls",
            "_view_module_version": "1.5.0",
            "_view_name": "HBoxView",
            "box_style": "",
            "children": [
              "IPY_MODEL_475f40cc21b24a4592cc497e65b79b4d",
              "IPY_MODEL_e940689d9329422498c73e505a37b981",
              "IPY_MODEL_7e194bdff1d8421799970d86a7d54405"
            ],
            "layout": "IPY_MODEL_ed0386e5b4a443a091c9fe3a903e7ac8"
          }
        },
        "475f40cc21b24a4592cc497e65b79b4d": {
          "model_module": "@jupyter-widgets/controls",
          "model_name": "HTMLModel",
          "model_module_version": "1.5.0",
          "state": {
            "_dom_classes": [],
            "_model_module": "@jupyter-widgets/controls",
            "_model_module_version": "1.5.0",
            "_model_name": "HTMLModel",
            "_view_count": null,
            "_view_module": "@jupyter-widgets/controls",
            "_view_module_version": "1.5.0",
            "_view_name": "HTMLView",
            "description": "",
            "description_tooltip": null,
            "layout": "IPY_MODEL_19cfa24a8f5b41f7ad2bbadc6399a272",
            "placeholder": "​",
            "style": "IPY_MODEL_064a9dd02a494fe4a66696a309fe2ba2",
            "value": "Sanity Checking DataLoader 0: 100%"
          }
        },
        "e940689d9329422498c73e505a37b981": {
          "model_module": "@jupyter-widgets/controls",
          "model_name": "FloatProgressModel",
          "model_module_version": "1.5.0",
          "state": {
            "_dom_classes": [],
            "_model_module": "@jupyter-widgets/controls",
            "_model_module_version": "1.5.0",
            "_model_name": "FloatProgressModel",
            "_view_count": null,
            "_view_module": "@jupyter-widgets/controls",
            "_view_module_version": "1.5.0",
            "_view_name": "ProgressView",
            "bar_style": "",
            "description": "",
            "description_tooltip": null,
            "layout": "IPY_MODEL_750d2a96f05c4b43a7cf6a18ec4cb44f",
            "max": 1,
            "min": 0,
            "orientation": "horizontal",
            "style": "IPY_MODEL_ba127c3f77f24d0ea9491ee616119070",
            "value": 1
          }
        },
        "7e194bdff1d8421799970d86a7d54405": {
          "model_module": "@jupyter-widgets/controls",
          "model_name": "HTMLModel",
          "model_module_version": "1.5.0",
          "state": {
            "_dom_classes": [],
            "_model_module": "@jupyter-widgets/controls",
            "_model_module_version": "1.5.0",
            "_model_name": "HTMLModel",
            "_view_count": null,
            "_view_module": "@jupyter-widgets/controls",
            "_view_module_version": "1.5.0",
            "_view_name": "HTMLView",
            "description": "",
            "description_tooltip": null,
            "layout": "IPY_MODEL_b9981663691b46afb4c87207a342de7f",
            "placeholder": "​",
            "style": "IPY_MODEL_e392faab187a48108545ce436f93f70a",
            "value": " 1/1 [00:00&lt;00:00, 22.72it/s]"
          }
        },
        "ed0386e5b4a443a091c9fe3a903e7ac8": {
          "model_module": "@jupyter-widgets/base",
          "model_name": "LayoutModel",
          "model_module_version": "1.2.0",
          "state": {
            "_model_module": "@jupyter-widgets/base",
            "_model_module_version": "1.2.0",
            "_model_name": "LayoutModel",
            "_view_count": null,
            "_view_module": "@jupyter-widgets/base",
            "_view_module_version": "1.2.0",
            "_view_name": "LayoutView",
            "align_content": null,
            "align_items": null,
            "align_self": null,
            "border": null,
            "bottom": null,
            "display": "inline-flex",
            "flex": null,
            "flex_flow": "row wrap",
            "grid_area": null,
            "grid_auto_columns": null,
            "grid_auto_flow": null,
            "grid_auto_rows": null,
            "grid_column": null,
            "grid_gap": null,
            "grid_row": null,
            "grid_template_areas": null,
            "grid_template_columns": null,
            "grid_template_rows": null,
            "height": null,
            "justify_content": null,
            "justify_items": null,
            "left": null,
            "margin": null,
            "max_height": null,
            "max_width": null,
            "min_height": null,
            "min_width": null,
            "object_fit": null,
            "object_position": null,
            "order": null,
            "overflow": null,
            "overflow_x": null,
            "overflow_y": null,
            "padding": null,
            "right": null,
            "top": null,
            "visibility": "hidden",
            "width": "100%"
          }
        },
        "19cfa24a8f5b41f7ad2bbadc6399a272": {
          "model_module": "@jupyter-widgets/base",
          "model_name": "LayoutModel",
          "model_module_version": "1.2.0",
          "state": {
            "_model_module": "@jupyter-widgets/base",
            "_model_module_version": "1.2.0",
            "_model_name": "LayoutModel",
            "_view_count": null,
            "_view_module": "@jupyter-widgets/base",
            "_view_module_version": "1.2.0",
            "_view_name": "LayoutView",
            "align_content": null,
            "align_items": null,
            "align_self": null,
            "border": null,
            "bottom": null,
            "display": null,
            "flex": null,
            "flex_flow": null,
            "grid_area": null,
            "grid_auto_columns": null,
            "grid_auto_flow": null,
            "grid_auto_rows": null,
            "grid_column": null,
            "grid_gap": null,
            "grid_row": null,
            "grid_template_areas": null,
            "grid_template_columns": null,
            "grid_template_rows": null,
            "height": null,
            "justify_content": null,
            "justify_items": null,
            "left": null,
            "margin": null,
            "max_height": null,
            "max_width": null,
            "min_height": null,
            "min_width": null,
            "object_fit": null,
            "object_position": null,
            "order": null,
            "overflow": null,
            "overflow_x": null,
            "overflow_y": null,
            "padding": null,
            "right": null,
            "top": null,
            "visibility": null,
            "width": null
          }
        },
        "064a9dd02a494fe4a66696a309fe2ba2": {
          "model_module": "@jupyter-widgets/controls",
          "model_name": "DescriptionStyleModel",
          "model_module_version": "1.5.0",
          "state": {
            "_model_module": "@jupyter-widgets/controls",
            "_model_module_version": "1.5.0",
            "_model_name": "DescriptionStyleModel",
            "_view_count": null,
            "_view_module": "@jupyter-widgets/base",
            "_view_module_version": "1.2.0",
            "_view_name": "StyleView",
            "description_width": ""
          }
        },
        "750d2a96f05c4b43a7cf6a18ec4cb44f": {
          "model_module": "@jupyter-widgets/base",
          "model_name": "LayoutModel",
          "model_module_version": "1.2.0",
          "state": {
            "_model_module": "@jupyter-widgets/base",
            "_model_module_version": "1.2.0",
            "_model_name": "LayoutModel",
            "_view_count": null,
            "_view_module": "@jupyter-widgets/base",
            "_view_module_version": "1.2.0",
            "_view_name": "LayoutView",
            "align_content": null,
            "align_items": null,
            "align_self": null,
            "border": null,
            "bottom": null,
            "display": null,
            "flex": "2",
            "flex_flow": null,
            "grid_area": null,
            "grid_auto_columns": null,
            "grid_auto_flow": null,
            "grid_auto_rows": null,
            "grid_column": null,
            "grid_gap": null,
            "grid_row": null,
            "grid_template_areas": null,
            "grid_template_columns": null,
            "grid_template_rows": null,
            "height": null,
            "justify_content": null,
            "justify_items": null,
            "left": null,
            "margin": null,
            "max_height": null,
            "max_width": null,
            "min_height": null,
            "min_width": null,
            "object_fit": null,
            "object_position": null,
            "order": null,
            "overflow": null,
            "overflow_x": null,
            "overflow_y": null,
            "padding": null,
            "right": null,
            "top": null,
            "visibility": null,
            "width": null
          }
        },
        "ba127c3f77f24d0ea9491ee616119070": {
          "model_module": "@jupyter-widgets/controls",
          "model_name": "ProgressStyleModel",
          "model_module_version": "1.5.0",
          "state": {
            "_model_module": "@jupyter-widgets/controls",
            "_model_module_version": "1.5.0",
            "_model_name": "ProgressStyleModel",
            "_view_count": null,
            "_view_module": "@jupyter-widgets/base",
            "_view_module_version": "1.2.0",
            "_view_name": "StyleView",
            "bar_color": null,
            "description_width": ""
          }
        },
        "b9981663691b46afb4c87207a342de7f": {
          "model_module": "@jupyter-widgets/base",
          "model_name": "LayoutModel",
          "model_module_version": "1.2.0",
          "state": {
            "_model_module": "@jupyter-widgets/base",
            "_model_module_version": "1.2.0",
            "_model_name": "LayoutModel",
            "_view_count": null,
            "_view_module": "@jupyter-widgets/base",
            "_view_module_version": "1.2.0",
            "_view_name": "LayoutView",
            "align_content": null,
            "align_items": null,
            "align_self": null,
            "border": null,
            "bottom": null,
            "display": null,
            "flex": null,
            "flex_flow": null,
            "grid_area": null,
            "grid_auto_columns": null,
            "grid_auto_flow": null,
            "grid_auto_rows": null,
            "grid_column": null,
            "grid_gap": null,
            "grid_row": null,
            "grid_template_areas": null,
            "grid_template_columns": null,
            "grid_template_rows": null,
            "height": null,
            "justify_content": null,
            "justify_items": null,
            "left": null,
            "margin": null,
            "max_height": null,
            "max_width": null,
            "min_height": null,
            "min_width": null,
            "object_fit": null,
            "object_position": null,
            "order": null,
            "overflow": null,
            "overflow_x": null,
            "overflow_y": null,
            "padding": null,
            "right": null,
            "top": null,
            "visibility": null,
            "width": null
          }
        },
        "e392faab187a48108545ce436f93f70a": {
          "model_module": "@jupyter-widgets/controls",
          "model_name": "DescriptionStyleModel",
          "model_module_version": "1.5.0",
          "state": {
            "_model_module": "@jupyter-widgets/controls",
            "_model_module_version": "1.5.0",
            "_model_name": "DescriptionStyleModel",
            "_view_count": null,
            "_view_module": "@jupyter-widgets/base",
            "_view_module_version": "1.2.0",
            "_view_name": "StyleView",
            "description_width": ""
          }
        },
        "f82aaa1ad3e04577bb2812e0dcbb652c": {
          "model_module": "@jupyter-widgets/controls",
          "model_name": "HBoxModel",
          "model_module_version": "1.5.0",
          "state": {
            "_dom_classes": [],
            "_model_module": "@jupyter-widgets/controls",
            "_model_module_version": "1.5.0",
            "_model_name": "HBoxModel",
            "_view_count": null,
            "_view_module": "@jupyter-widgets/controls",
            "_view_module_version": "1.5.0",
            "_view_name": "HBoxView",
            "box_style": "",
            "children": [
              "IPY_MODEL_d117b0a8b24b4bc4b8c05104970a7f0a",
              "IPY_MODEL_b1e7c42732804e8991e2542d36ecbdaf",
              "IPY_MODEL_7c56fbec63364405b4947660bfcbfa5a"
            ],
            "layout": "IPY_MODEL_6e6746bef9d541beb84db952a895fd2d"
          }
        },
        "d117b0a8b24b4bc4b8c05104970a7f0a": {
          "model_module": "@jupyter-widgets/controls",
          "model_name": "HTMLModel",
          "model_module_version": "1.5.0",
          "state": {
            "_dom_classes": [],
            "_model_module": "@jupyter-widgets/controls",
            "_model_module_version": "1.5.0",
            "_model_name": "HTMLModel",
            "_view_count": null,
            "_view_module": "@jupyter-widgets/controls",
            "_view_module_version": "1.5.0",
            "_view_name": "HTMLView",
            "description": "",
            "description_tooltip": null,
            "layout": "IPY_MODEL_b537864164254e538f63cc3014d407a9",
            "placeholder": "​",
            "style": "IPY_MODEL_70e73cca0c7e4fab992c24cfefbea643",
            "value": "Epoch 0: 100%"
          }
        },
        "b1e7c42732804e8991e2542d36ecbdaf": {
          "model_module": "@jupyter-widgets/controls",
          "model_name": "FloatProgressModel",
          "model_module_version": "1.5.0",
          "state": {
            "_dom_classes": [],
            "_model_module": "@jupyter-widgets/controls",
            "_model_module_version": "1.5.0",
            "_model_name": "FloatProgressModel",
            "_view_count": null,
            "_view_module": "@jupyter-widgets/controls",
            "_view_module_version": "1.5.0",
            "_view_name": "ProgressView",
            "bar_style": "success",
            "description": "",
            "description_tooltip": null,
            "layout": "IPY_MODEL_109f1621ae4444bea4e2d75ec1c7e4bb",
            "max": 4,
            "min": 0,
            "orientation": "horizontal",
            "style": "IPY_MODEL_bdb729775b6942648039913f155e68d6",
            "value": 4
          }
        },
        "7c56fbec63364405b4947660bfcbfa5a": {
          "model_module": "@jupyter-widgets/controls",
          "model_name": "HTMLModel",
          "model_module_version": "1.5.0",
          "state": {
            "_dom_classes": [],
            "_model_module": "@jupyter-widgets/controls",
            "_model_module_version": "1.5.0",
            "_model_name": "HTMLModel",
            "_view_count": null,
            "_view_module": "@jupyter-widgets/controls",
            "_view_module_version": "1.5.0",
            "_view_name": "HTMLView",
            "description": "",
            "description_tooltip": null,
            "layout": "IPY_MODEL_314f9ba9d6aa48099319f1b7bd4f1674",
            "placeholder": "​",
            "style": "IPY_MODEL_ad62d3de985d41bfa6e0717ef70cb842",
            "value": " 4/4 [00:06&lt;00:00,  1.58s/it, v_num=6]"
          }
        },
        "6e6746bef9d541beb84db952a895fd2d": {
          "model_module": "@jupyter-widgets/base",
          "model_name": "LayoutModel",
          "model_module_version": "1.2.0",
          "state": {
            "_model_module": "@jupyter-widgets/base",
            "_model_module_version": "1.2.0",
            "_model_name": "LayoutModel",
            "_view_count": null,
            "_view_module": "@jupyter-widgets/base",
            "_view_module_version": "1.2.0",
            "_view_name": "LayoutView",
            "align_content": null,
            "align_items": null,
            "align_self": null,
            "border": null,
            "bottom": null,
            "display": "inline-flex",
            "flex": null,
            "flex_flow": "row wrap",
            "grid_area": null,
            "grid_auto_columns": null,
            "grid_auto_flow": null,
            "grid_auto_rows": null,
            "grid_column": null,
            "grid_gap": null,
            "grid_row": null,
            "grid_template_areas": null,
            "grid_template_columns": null,
            "grid_template_rows": null,
            "height": null,
            "justify_content": null,
            "justify_items": null,
            "left": null,
            "margin": null,
            "max_height": null,
            "max_width": null,
            "min_height": null,
            "min_width": null,
            "object_fit": null,
            "object_position": null,
            "order": null,
            "overflow": null,
            "overflow_x": null,
            "overflow_y": null,
            "padding": null,
            "right": null,
            "top": null,
            "visibility": null,
            "width": "100%"
          }
        },
        "b537864164254e538f63cc3014d407a9": {
          "model_module": "@jupyter-widgets/base",
          "model_name": "LayoutModel",
          "model_module_version": "1.2.0",
          "state": {
            "_model_module": "@jupyter-widgets/base",
            "_model_module_version": "1.2.0",
            "_model_name": "LayoutModel",
            "_view_count": null,
            "_view_module": "@jupyter-widgets/base",
            "_view_module_version": "1.2.0",
            "_view_name": "LayoutView",
            "align_content": null,
            "align_items": null,
            "align_self": null,
            "border": null,
            "bottom": null,
            "display": null,
            "flex": null,
            "flex_flow": null,
            "grid_area": null,
            "grid_auto_columns": null,
            "grid_auto_flow": null,
            "grid_auto_rows": null,
            "grid_column": null,
            "grid_gap": null,
            "grid_row": null,
            "grid_template_areas": null,
            "grid_template_columns": null,
            "grid_template_rows": null,
            "height": null,
            "justify_content": null,
            "justify_items": null,
            "left": null,
            "margin": null,
            "max_height": null,
            "max_width": null,
            "min_height": null,
            "min_width": null,
            "object_fit": null,
            "object_position": null,
            "order": null,
            "overflow": null,
            "overflow_x": null,
            "overflow_y": null,
            "padding": null,
            "right": null,
            "top": null,
            "visibility": null,
            "width": null
          }
        },
        "70e73cca0c7e4fab992c24cfefbea643": {
          "model_module": "@jupyter-widgets/controls",
          "model_name": "DescriptionStyleModel",
          "model_module_version": "1.5.0",
          "state": {
            "_model_module": "@jupyter-widgets/controls",
            "_model_module_version": "1.5.0",
            "_model_name": "DescriptionStyleModel",
            "_view_count": null,
            "_view_module": "@jupyter-widgets/base",
            "_view_module_version": "1.2.0",
            "_view_name": "StyleView",
            "description_width": ""
          }
        },
        "109f1621ae4444bea4e2d75ec1c7e4bb": {
          "model_module": "@jupyter-widgets/base",
          "model_name": "LayoutModel",
          "model_module_version": "1.2.0",
          "state": {
            "_model_module": "@jupyter-widgets/base",
            "_model_module_version": "1.2.0",
            "_model_name": "LayoutModel",
            "_view_count": null,
            "_view_module": "@jupyter-widgets/base",
            "_view_module_version": "1.2.0",
            "_view_name": "LayoutView",
            "align_content": null,
            "align_items": null,
            "align_self": null,
            "border": null,
            "bottom": null,
            "display": null,
            "flex": "2",
            "flex_flow": null,
            "grid_area": null,
            "grid_auto_columns": null,
            "grid_auto_flow": null,
            "grid_auto_rows": null,
            "grid_column": null,
            "grid_gap": null,
            "grid_row": null,
            "grid_template_areas": null,
            "grid_template_columns": null,
            "grid_template_rows": null,
            "height": null,
            "justify_content": null,
            "justify_items": null,
            "left": null,
            "margin": null,
            "max_height": null,
            "max_width": null,
            "min_height": null,
            "min_width": null,
            "object_fit": null,
            "object_position": null,
            "order": null,
            "overflow": null,
            "overflow_x": null,
            "overflow_y": null,
            "padding": null,
            "right": null,
            "top": null,
            "visibility": null,
            "width": null
          }
        },
        "bdb729775b6942648039913f155e68d6": {
          "model_module": "@jupyter-widgets/controls",
          "model_name": "ProgressStyleModel",
          "model_module_version": "1.5.0",
          "state": {
            "_model_module": "@jupyter-widgets/controls",
            "_model_module_version": "1.5.0",
            "_model_name": "ProgressStyleModel",
            "_view_count": null,
            "_view_module": "@jupyter-widgets/base",
            "_view_module_version": "1.2.0",
            "_view_name": "StyleView",
            "bar_color": null,
            "description_width": ""
          }
        },
        "314f9ba9d6aa48099319f1b7bd4f1674": {
          "model_module": "@jupyter-widgets/base",
          "model_name": "LayoutModel",
          "model_module_version": "1.2.0",
          "state": {
            "_model_module": "@jupyter-widgets/base",
            "_model_module_version": "1.2.0",
            "_model_name": "LayoutModel",
            "_view_count": null,
            "_view_module": "@jupyter-widgets/base",
            "_view_module_version": "1.2.0",
            "_view_name": "LayoutView",
            "align_content": null,
            "align_items": null,
            "align_self": null,
            "border": null,
            "bottom": null,
            "display": null,
            "flex": null,
            "flex_flow": null,
            "grid_area": null,
            "grid_auto_columns": null,
            "grid_auto_flow": null,
            "grid_auto_rows": null,
            "grid_column": null,
            "grid_gap": null,
            "grid_row": null,
            "grid_template_areas": null,
            "grid_template_columns": null,
            "grid_template_rows": null,
            "height": null,
            "justify_content": null,
            "justify_items": null,
            "left": null,
            "margin": null,
            "max_height": null,
            "max_width": null,
            "min_height": null,
            "min_width": null,
            "object_fit": null,
            "object_position": null,
            "order": null,
            "overflow": null,
            "overflow_x": null,
            "overflow_y": null,
            "padding": null,
            "right": null,
            "top": null,
            "visibility": null,
            "width": null
          }
        },
        "ad62d3de985d41bfa6e0717ef70cb842": {
          "model_module": "@jupyter-widgets/controls",
          "model_name": "DescriptionStyleModel",
          "model_module_version": "1.5.0",
          "state": {
            "_model_module": "@jupyter-widgets/controls",
            "_model_module_version": "1.5.0",
            "_model_name": "DescriptionStyleModel",
            "_view_count": null,
            "_view_module": "@jupyter-widgets/base",
            "_view_module_version": "1.2.0",
            "_view_name": "StyleView",
            "description_width": ""
          }
        },
        "bdb79caa6d884d11948f23ad49559a5b": {
          "model_module": "@jupyter-widgets/controls",
          "model_name": "HBoxModel",
          "model_module_version": "1.5.0",
          "state": {
            "_dom_classes": [],
            "_model_module": "@jupyter-widgets/controls",
            "_model_module_version": "1.5.0",
            "_model_name": "HBoxModel",
            "_view_count": null,
            "_view_module": "@jupyter-widgets/controls",
            "_view_module_version": "1.5.0",
            "_view_name": "HBoxView",
            "box_style": "",
            "children": [
              "IPY_MODEL_ba5edbb3f06641cab5e378b110197203",
              "IPY_MODEL_859bc3b91eac473ebfb9bad26363eb5b",
              "IPY_MODEL_346b0b1d74f645d983148fadb20337fc"
            ],
            "layout": "IPY_MODEL_7d92487b03f04d5c9b357e849d904223"
          }
        },
        "ba5edbb3f06641cab5e378b110197203": {
          "model_module": "@jupyter-widgets/controls",
          "model_name": "HTMLModel",
          "model_module_version": "1.5.0",
          "state": {
            "_dom_classes": [],
            "_model_module": "@jupyter-widgets/controls",
            "_model_module_version": "1.5.0",
            "_model_name": "HTMLModel",
            "_view_count": null,
            "_view_module": "@jupyter-widgets/controls",
            "_view_module_version": "1.5.0",
            "_view_name": "HTMLView",
            "description": "",
            "description_tooltip": null,
            "layout": "IPY_MODEL_8f0235e92d254d52b98b708b4c21f4bc",
            "placeholder": "​",
            "style": "IPY_MODEL_9bfe3e7220584841b70fc917fac11e8b",
            "value": "Validation DataLoader 0: 100%"
          }
        },
        "859bc3b91eac473ebfb9bad26363eb5b": {
          "model_module": "@jupyter-widgets/controls",
          "model_name": "FloatProgressModel",
          "model_module_version": "1.5.0",
          "state": {
            "_dom_classes": [],
            "_model_module": "@jupyter-widgets/controls",
            "_model_module_version": "1.5.0",
            "_model_name": "FloatProgressModel",
            "_view_count": null,
            "_view_module": "@jupyter-widgets/controls",
            "_view_module_version": "1.5.0",
            "_view_name": "ProgressView",
            "bar_style": "",
            "description": "",
            "description_tooltip": null,
            "layout": "IPY_MODEL_d4e4bc0263f84079b20ae797d10a6a30",
            "max": 1,
            "min": 0,
            "orientation": "horizontal",
            "style": "IPY_MODEL_7acb91c0be934a86a581783ddae9f688",
            "value": 1
          }
        },
        "346b0b1d74f645d983148fadb20337fc": {
          "model_module": "@jupyter-widgets/controls",
          "model_name": "HTMLModel",
          "model_module_version": "1.5.0",
          "state": {
            "_dom_classes": [],
            "_model_module": "@jupyter-widgets/controls",
            "_model_module_version": "1.5.0",
            "_model_name": "HTMLModel",
            "_view_count": null,
            "_view_module": "@jupyter-widgets/controls",
            "_view_module_version": "1.5.0",
            "_view_name": "HTMLView",
            "description": "",
            "description_tooltip": null,
            "layout": "IPY_MODEL_17170febfde4451b8408707989d311ac",
            "placeholder": "​",
            "style": "IPY_MODEL_ee4b859bc6824e84aca9f31a4a509978",
            "value": " 1/1 [00:00&lt;00:00, 22.58it/s]"
          }
        },
        "7d92487b03f04d5c9b357e849d904223": {
          "model_module": "@jupyter-widgets/base",
          "model_name": "LayoutModel",
          "model_module_version": "1.2.0",
          "state": {
            "_model_module": "@jupyter-widgets/base",
            "_model_module_version": "1.2.0",
            "_model_name": "LayoutModel",
            "_view_count": null,
            "_view_module": "@jupyter-widgets/base",
            "_view_module_version": "1.2.0",
            "_view_name": "LayoutView",
            "align_content": null,
            "align_items": null,
            "align_self": null,
            "border": null,
            "bottom": null,
            "display": "inline-flex",
            "flex": null,
            "flex_flow": "row wrap",
            "grid_area": null,
            "grid_auto_columns": null,
            "grid_auto_flow": null,
            "grid_auto_rows": null,
            "grid_column": null,
            "grid_gap": null,
            "grid_row": null,
            "grid_template_areas": null,
            "grid_template_columns": null,
            "grid_template_rows": null,
            "height": null,
            "justify_content": null,
            "justify_items": null,
            "left": null,
            "margin": null,
            "max_height": null,
            "max_width": null,
            "min_height": null,
            "min_width": null,
            "object_fit": null,
            "object_position": null,
            "order": null,
            "overflow": null,
            "overflow_x": null,
            "overflow_y": null,
            "padding": null,
            "right": null,
            "top": null,
            "visibility": "hidden",
            "width": "100%"
          }
        },
        "8f0235e92d254d52b98b708b4c21f4bc": {
          "model_module": "@jupyter-widgets/base",
          "model_name": "LayoutModel",
          "model_module_version": "1.2.0",
          "state": {
            "_model_module": "@jupyter-widgets/base",
            "_model_module_version": "1.2.0",
            "_model_name": "LayoutModel",
            "_view_count": null,
            "_view_module": "@jupyter-widgets/base",
            "_view_module_version": "1.2.0",
            "_view_name": "LayoutView",
            "align_content": null,
            "align_items": null,
            "align_self": null,
            "border": null,
            "bottom": null,
            "display": null,
            "flex": null,
            "flex_flow": null,
            "grid_area": null,
            "grid_auto_columns": null,
            "grid_auto_flow": null,
            "grid_auto_rows": null,
            "grid_column": null,
            "grid_gap": null,
            "grid_row": null,
            "grid_template_areas": null,
            "grid_template_columns": null,
            "grid_template_rows": null,
            "height": null,
            "justify_content": null,
            "justify_items": null,
            "left": null,
            "margin": null,
            "max_height": null,
            "max_width": null,
            "min_height": null,
            "min_width": null,
            "object_fit": null,
            "object_position": null,
            "order": null,
            "overflow": null,
            "overflow_x": null,
            "overflow_y": null,
            "padding": null,
            "right": null,
            "top": null,
            "visibility": null,
            "width": null
          }
        },
        "9bfe3e7220584841b70fc917fac11e8b": {
          "model_module": "@jupyter-widgets/controls",
          "model_name": "DescriptionStyleModel",
          "model_module_version": "1.5.0",
          "state": {
            "_model_module": "@jupyter-widgets/controls",
            "_model_module_version": "1.5.0",
            "_model_name": "DescriptionStyleModel",
            "_view_count": null,
            "_view_module": "@jupyter-widgets/base",
            "_view_module_version": "1.2.0",
            "_view_name": "StyleView",
            "description_width": ""
          }
        },
        "d4e4bc0263f84079b20ae797d10a6a30": {
          "model_module": "@jupyter-widgets/base",
          "model_name": "LayoutModel",
          "model_module_version": "1.2.0",
          "state": {
            "_model_module": "@jupyter-widgets/base",
            "_model_module_version": "1.2.0",
            "_model_name": "LayoutModel",
            "_view_count": null,
            "_view_module": "@jupyter-widgets/base",
            "_view_module_version": "1.2.0",
            "_view_name": "LayoutView",
            "align_content": null,
            "align_items": null,
            "align_self": null,
            "border": null,
            "bottom": null,
            "display": null,
            "flex": "2",
            "flex_flow": null,
            "grid_area": null,
            "grid_auto_columns": null,
            "grid_auto_flow": null,
            "grid_auto_rows": null,
            "grid_column": null,
            "grid_gap": null,
            "grid_row": null,
            "grid_template_areas": null,
            "grid_template_columns": null,
            "grid_template_rows": null,
            "height": null,
            "justify_content": null,
            "justify_items": null,
            "left": null,
            "margin": null,
            "max_height": null,
            "max_width": null,
            "min_height": null,
            "min_width": null,
            "object_fit": null,
            "object_position": null,
            "order": null,
            "overflow": null,
            "overflow_x": null,
            "overflow_y": null,
            "padding": null,
            "right": null,
            "top": null,
            "visibility": null,
            "width": null
          }
        },
        "7acb91c0be934a86a581783ddae9f688": {
          "model_module": "@jupyter-widgets/controls",
          "model_name": "ProgressStyleModel",
          "model_module_version": "1.5.0",
          "state": {
            "_model_module": "@jupyter-widgets/controls",
            "_model_module_version": "1.5.0",
            "_model_name": "ProgressStyleModel",
            "_view_count": null,
            "_view_module": "@jupyter-widgets/base",
            "_view_module_version": "1.2.0",
            "_view_name": "StyleView",
            "bar_color": null,
            "description_width": ""
          }
        },
        "17170febfde4451b8408707989d311ac": {
          "model_module": "@jupyter-widgets/base",
          "model_name": "LayoutModel",
          "model_module_version": "1.2.0",
          "state": {
            "_model_module": "@jupyter-widgets/base",
            "_model_module_version": "1.2.0",
            "_model_name": "LayoutModel",
            "_view_count": null,
            "_view_module": "@jupyter-widgets/base",
            "_view_module_version": "1.2.0",
            "_view_name": "LayoutView",
            "align_content": null,
            "align_items": null,
            "align_self": null,
            "border": null,
            "bottom": null,
            "display": null,
            "flex": null,
            "flex_flow": null,
            "grid_area": null,
            "grid_auto_columns": null,
            "grid_auto_flow": null,
            "grid_auto_rows": null,
            "grid_column": null,
            "grid_gap": null,
            "grid_row": null,
            "grid_template_areas": null,
            "grid_template_columns": null,
            "grid_template_rows": null,
            "height": null,
            "justify_content": null,
            "justify_items": null,
            "left": null,
            "margin": null,
            "max_height": null,
            "max_width": null,
            "min_height": null,
            "min_width": null,
            "object_fit": null,
            "object_position": null,
            "order": null,
            "overflow": null,
            "overflow_x": null,
            "overflow_y": null,
            "padding": null,
            "right": null,
            "top": null,
            "visibility": null,
            "width": null
          }
        },
        "ee4b859bc6824e84aca9f31a4a509978": {
          "model_module": "@jupyter-widgets/controls",
          "model_name": "DescriptionStyleModel",
          "model_module_version": "1.5.0",
          "state": {
            "_model_module": "@jupyter-widgets/controls",
            "_model_module_version": "1.5.0",
            "_model_name": "DescriptionStyleModel",
            "_view_count": null,
            "_view_module": "@jupyter-widgets/base",
            "_view_module_version": "1.2.0",
            "_view_name": "StyleView",
            "description_width": ""
          }
        }
      }
    }
  },
  "cells": [
    {
      "cell_type": "markdown",
      "metadata": {
        "id": "view-in-github",
        "colab_type": "text"
      },
      "source": [
        "<a href=\"https://colab.research.google.com/github/jonkrohn/NLP-with-LLMs/blob/main/code/Single-GPU-T5.ipynb\" target=\"_parent\"><img src=\"https://colab.research.google.com/assets/colab-badge.svg\" alt=\"Open In Colab\"/></a>"
      ]
    },
    {
      "cell_type": "markdown",
      "source": [
        "# Single GPU T5\n",
        "\n",
        "In this notebook, we use a single GPU in conjunction with Hugging Face and PyTorch Lightning to train an LLM (a T5 architecture) to be able to convert integers (e.g., `2003`) into their corresponding string (e.g., `two thousand three`).\n",
        "\n",
        "**If using Colab, be sure to change Runtime type to `GPU`.**"
      ],
      "metadata": {
        "id": "5OhzDJyDW7fE"
      }
    },
    {
      "cell_type": "markdown",
      "source": [
        "### Load dependencies"
      ],
      "metadata": {
        "id": "k1lzq-J3nR-q"
      }
    },
    {
      "cell_type": "code",
      "source": [
        "! nvidia-smi"
      ],
      "metadata": {
        "id": "19OmG6Zf2sPr",
        "outputId": "aec03cf9-b88c-4ab9-e2eb-af5caaf6aafe",
        "colab": {
          "base_uri": "https://localhost:8080/"
        }
      },
      "execution_count": 1,
      "outputs": [
        {
          "output_type": "stream",
          "name": "stdout",
          "text": [
            "Sun Apr 30 01:50:15 2023       \n",
            "+-----------------------------------------------------------------------------+\n",
            "| NVIDIA-SMI 525.85.12    Driver Version: 525.85.12    CUDA Version: 12.0     |\n",
            "|-------------------------------+----------------------+----------------------+\n",
            "| GPU  Name        Persistence-M| Bus-Id        Disp.A | Volatile Uncorr. ECC |\n",
            "| Fan  Temp  Perf  Pwr:Usage/Cap|         Memory-Usage | GPU-Util  Compute M. |\n",
            "|                               |                      |               MIG M. |\n",
            "|===============================+======================+======================|\n",
            "|   0  Tesla T4            Off  | 00000000:00:04.0 Off |                    0 |\n",
            "| N/A   60C    P8    10W /  70W |      0MiB / 15360MiB |      0%      Default |\n",
            "|                               |                      |                  N/A |\n",
            "+-------------------------------+----------------------+----------------------+\n",
            "                                                                               \n",
            "+-----------------------------------------------------------------------------+\n",
            "| Processes:                                                                  |\n",
            "|  GPU   GI   CI        PID   Type   Process name                  GPU Memory |\n",
            "|        ID   ID                                                   Usage      |\n",
            "|=============================================================================|\n",
            "|  No running processes found                                                 |\n",
            "+-----------------------------------------------------------------------------+\n"
          ]
        }
      ]
    },
    {
      "cell_type": "code",
      "source": [
        "%%capture\n",
        "!pip install nvidia-ml-py3==7.352.0 pytorch-lightning==2.0.1.post0 transformers==4.28.0 torchvision==0.15.1 rouge-score==0.1.2 tensorboardx==2.6 accelerate==0.18.0 deepspeed==0.9.0 peft==0.2.0"
      ],
      "metadata": {
        "id": "jsQulC3nnTA6"
      },
      "execution_count": 2,
      "outputs": []
    },
    {
      "cell_type": "code",
      "source": [
        "# PyTorch autodiff library:\n",
        "import torch\n",
        "from torch.utils.data import Dataset\n",
        "from torch.utils.data import DataLoader\n",
        "\n",
        "# PyTorch Lightning for easier training:\n",
        "import pytorch_lightning as pl\n",
        "from pytorch_lightning.loggers import TensorBoardLogger\n",
        "\n",
        "# Hugging Face for model, tokenizer, and a training function:\n",
        "from transformers import T5ForConditionalGeneration\n",
        "from transformers import AutoTokenizer\n",
        "from transformers import get_linear_schedule_with_warmup\n",
        "\n",
        "# LoRA for PEFT:\n",
        "from peft import get_peft_model, LoraConfig, TaskType\n",
        "\n",
        "# Filesystem/data utilities:\n",
        "import os\n",
        "import json"
      ],
      "metadata": {
        "id": "1_SWfsBSnZI5"
      },
      "execution_count": 3,
      "outputs": []
    },
    {
      "cell_type": "markdown",
      "source": [
        "### Import helper functions"
      ],
      "metadata": {
        "id": "mtaFVsCRog-U"
      }
    },
    {
      "cell_type": "code",
      "source": [
        "!git clone https://github.com/shaankhosla/NLP_with_LLMs/\n",
        "%cd \"NLP_with_LLMs\""
      ],
      "metadata": {
        "colab": {
          "base_uri": "https://localhost:8080/"
        },
        "id": "40_LlQ69ob7l",
        "outputId": "004e0179-f795-4b7e-a7c9-0ff570152356"
      },
      "execution_count": 4,
      "outputs": [
        {
          "output_type": "stream",
          "name": "stdout",
          "text": [
            "fatal: destination path 'NLP_with_LLMs' already exists and is not an empty directory.\n",
            "/content/NLP_with_LLMs\n"
          ]
        }
      ]
    },
    {
      "cell_type": "code",
      "source": [
        "import gpu_utilities, generate_data"
      ],
      "metadata": {
        "id": "7Xvh3Tfhob-B"
      },
      "execution_count": 5,
      "outputs": []
    },
    {
      "cell_type": "code",
      "source": [
        "gpu_utilities.print_gpu_utilization()"
      ],
      "metadata": {
        "id": "GVbAO8gW1kc2",
        "outputId": "0c4061d1-368c-424f-e194-1eeb7ae5641c",
        "colab": {
          "base_uri": "https://localhost:8080/"
        }
      },
      "execution_count": 6,
      "outputs": [
        {
          "output_type": "stream",
          "name": "stdout",
          "text": [
            "Device 0 : b'Tesla T4'\n",
            "GPU memory occupied: 258 MB.\n"
          ]
        }
      ]
    },
    {
      "cell_type": "code",
      "source": [
        "! nvidia-smi"
      ],
      "metadata": {
        "id": "HGoGyAi625ZI",
        "outputId": "7ac86c9c-5cfd-42f8-86f6-7964397c174a",
        "colab": {
          "base_uri": "https://localhost:8080/"
        }
      },
      "execution_count": 7,
      "outputs": [
        {
          "output_type": "stream",
          "name": "stdout",
          "text": [
            "Sun Apr 30 01:51:08 2023       \n",
            "+-----------------------------------------------------------------------------+\n",
            "| NVIDIA-SMI 525.85.12    Driver Version: 525.85.12    CUDA Version: 12.0     |\n",
            "|-------------------------------+----------------------+----------------------+\n",
            "| GPU  Name        Persistence-M| Bus-Id        Disp.A | Volatile Uncorr. ECC |\n",
            "| Fan  Temp  Perf  Pwr:Usage/Cap|         Memory-Usage | GPU-Util  Compute M. |\n",
            "|                               |                      |               MIG M. |\n",
            "|===============================+======================+======================|\n",
            "|   0  Tesla T4            Off  | 00000000:00:04.0 Off |                    0 |\n",
            "| N/A   56C    P8    10W /  70W |      0MiB / 15360MiB |      0%      Default |\n",
            "|                               |                      |                  N/A |\n",
            "+-------------------------------+----------------------+----------------------+\n",
            "                                                                               \n",
            "+-----------------------------------------------------------------------------+\n",
            "| Processes:                                                                  |\n",
            "|  GPU   GI   CI        PID   Type   Process name                  GPU Memory |\n",
            "|        ID   ID                                                   Usage      |\n",
            "|=============================================================================|\n",
            "|  No running processes found                                                 |\n",
            "+-----------------------------------------------------------------------------+\n"
          ]
        }
      ]
    },
    {
      "cell_type": "markdown",
      "source": [
        "### Select a model\n",
        "\n",
        "You can read more about the T5 family of models, including options for other T5 model versions in Hugging Face [here](https://huggingface.co/docs/transformers/model_doc/t5).\n",
        "\n",
        "`T5-small` has just 60 million parameters, making it a great choice for demo purposes."
      ],
      "metadata": {
        "id": "tbcmwFgMuJx2"
      }
    },
    {
      "cell_type": "code",
      "source": [
        "MODEL_NAME = 't5-small'"
      ],
      "metadata": {
        "id": "1bdzN6mwuLx8"
      },
      "execution_count": 8,
      "outputs": []
    },
    {
      "cell_type": "markdown",
      "source": [
        "**Return to \"T5\" slide here.**"
      ],
      "metadata": {
        "id": "qNLCT7FkymJG"
      }
    },
    {
      "cell_type": "markdown",
      "source": [
        "### Generate Data"
      ],
      "metadata": {
        "id": "LToPJ91tocxa"
      }
    },
    {
      "cell_type": "code",
      "source": [
        "generate_data.main(num_train=1000, num_val=200)"
      ],
      "metadata": {
        "colab": {
          "base_uri": "https://localhost:8080/"
        },
        "id": "1IztAGnhocAU",
        "outputId": "aba553be-7b38-467b-9840-d1766a88abc2"
      },
      "execution_count": 9,
      "outputs": [
        {
          "output_type": "stream",
          "name": "stdout",
          "text": [
            "Generating synthetic dataset (1000 train, 200 val)...\n"
          ]
        },
        {
          "output_type": "stream",
          "name": "stderr",
          "text": []
        }
      ]
    },
    {
      "cell_type": "code",
      "source": [
        "!cat './data/train/0.json'"
      ],
      "metadata": {
        "colab": {
          "base_uri": "https://localhost:8080/"
        },
        "id": "QvWfx_GBocCr",
        "outputId": "52f557f4-6289-4140-9d2f-8c2c3d3604aa"
      },
      "execution_count": 10,
      "outputs": [
        {
          "output_type": "stream",
          "name": "stdout",
          "text": [
            "{\"number\": 6489, \"words\": \"six thousand four hundred eighty nine\"}"
          ]
        }
      ]
    },
    {
      "cell_type": "code",
      "source": [
        "!cat './data/train/1.json'"
      ],
      "metadata": {
        "id": "_zseC_g9LVa4",
        "outputId": "2cef7204-9cd7-4c94-f681-886c09fa5c52",
        "colab": {
          "base_uri": "https://localhost:8080/"
        }
      },
      "execution_count": 12,
      "outputs": [
        {
          "output_type": "stream",
          "name": "stdout",
          "text": [
            "{\"number\": 234786, \"words\": \"two hundred thirty four thousand seven hundred eighty six\"}"
          ]
        }
      ]
    },
    {
      "cell_type": "code",
      "source": [
        "class StreamingDataset(Dataset):\n",
        "    def __init__(self, path):\n",
        "        self.path = path\n",
        "        self.tokenizer = AutoTokenizer.from_pretrained( # automatically detects T5 and tokenizes for T5\n",
        "            MODEL_NAME, cache_dir='./cache/', use_fast=True\n",
        "        )\n",
        "\n",
        "    def __len__(self):\n",
        "        return len(os.listdir(self.path))\n",
        "\n",
        "    def encode_text(self, context, text):\n",
        "        ctext = str(context)\n",
        "        ctext = \" \".join(ctext.split())\n",
        "        text = str(text)\n",
        "        text = \" \".join(text.split())\n",
        "        source = self.tokenizer.batch_encode_plus(\n",
        "            [ctext],\n",
        "            max_length=16,\n",
        "            truncation=True,\n",
        "            # pad_to_max_length=True,\n",
        "            padding=\"max_length\",\n",
        "            return_tensors=\"pt\",\n",
        "        )\n",
        "        target = self.tokenizer.batch_encode_plus(\n",
        "            [text],\n",
        "            max_length=16,\n",
        "            truncation=True,\n",
        "            # pad_to_max_length=True,\n",
        "            padding=\"max_length\",\n",
        "            return_tensors=\"pt\",\n",
        "        )\n",
        "        y = target[\"input_ids\"]\n",
        "        target_id = y[:, :-1].contiguous()\n",
        "        target_label = y[:, 1:].clone().detach()\n",
        "        target_label[\n",
        "            y[:, 1:] == self.tokenizer.pad_token_id\n",
        "        ] = -100  # in case the labels are not provided, empty string\n",
        "        return source[\"input_ids\"], source[\"attention_mask\"], target_id, target_label\n",
        "\n",
        "    def __getitem__(self, idx):\n",
        "        file_path = os.path.join(self.path, str(idx) + \".json\")\n",
        "        with open(file_path, \"r\") as infile:\n",
        "            data = json.load(infile)\n",
        "        number, words = str(data[\"number\"]), data[\"words\"]\n",
        "        return self.encode_text(number, words)"
      ],
      "metadata": {
        "id": "Za-MuSUJocE7"
      },
      "execution_count": 11,
      "outputs": []
    },
    {
      "cell_type": "code",
      "source": [
        "train_data = StreamingDataset('./data/train/')\n",
        "val_data = StreamingDataset('./data/val')"
      ],
      "metadata": {
        "id": "NC18SR8cocHI"
      },
      "execution_count": 13,
      "outputs": []
    },
    {
      "cell_type": "markdown",
      "source": [
        "`train_data[0]` calls `StreamingDataset.__getitem__()` so this is the first time that data are being read from storage and encoded: "
      ],
      "metadata": {
        "id": "cPRwOlkvbNAw"
      }
    },
    {
      "cell_type": "code",
      "source": [
        "input_ids_i, sequence_mask_i, target_ids_i, target_label_i = train_data[0]"
      ],
      "metadata": {
        "id": "9-vSEakSaObx"
      },
      "execution_count": 14,
      "outputs": []
    },
    {
      "cell_type": "code",
      "source": [
        "input_ids_i"
      ],
      "metadata": {
        "id": "APvnwq7jacEa",
        "outputId": "b582067a-c0dd-4ab3-bb7b-886b24d915b0",
        "colab": {
          "base_uri": "https://localhost:8080/"
        }
      },
      "execution_count": 15,
      "outputs": [
        {
          "output_type": "execute_result",
          "data": {
            "text/plain": [
              "tensor([[6687, 3914,    1,    0,    0,    0,    0,    0,    0,    0,    0,    0,\n",
              "            0,    0,    0,    0]])"
            ]
          },
          "metadata": {},
          "execution_count": 15
        }
      ]
    },
    {
      "cell_type": "code",
      "source": [
        "sequence_mask_i"
      ],
      "metadata": {
        "id": "sOuAnV7jbAbw",
        "outputId": "51f55ce8-87a7-4239-ecb2-1478a87a2775",
        "colab": {
          "base_uri": "https://localhost:8080/"
        }
      },
      "execution_count": 16,
      "outputs": [
        {
          "output_type": "execute_result",
          "data": {
            "text/plain": [
              "tensor([[1, 1, 1, 0, 0, 0, 0, 0, 0, 0, 0, 0, 0, 0, 0, 0]])"
            ]
          },
          "metadata": {},
          "execution_count": 16
        }
      ]
    },
    {
      "cell_type": "code",
      "source": [
        "target_ids_i"
      ],
      "metadata": {
        "id": "zUpAX--XbCK-",
        "outputId": "762fd340-7129-46ee-c988-7d184a42f42b",
        "colab": {
          "base_uri": "https://localhost:8080/"
        }
      },
      "execution_count": 17,
      "outputs": [
        {
          "output_type": "execute_result",
          "data": {
            "text/plain": [
              "tensor([[1296, 7863,  662, 6189, 2641,   63, 4169,    1,    0,    0,    0,    0,\n",
              "            0,    0,    0]])"
            ]
          },
          "metadata": {},
          "execution_count": 17
        }
      ]
    },
    {
      "cell_type": "markdown",
      "source": [
        "`target_label` represents the correct token that the autoregressive model should be predicting and `-100` is mask token:"
      ],
      "metadata": {
        "id": "5QtwbbiOb13k"
      }
    },
    {
      "cell_type": "code",
      "source": [
        "target_label_i"
      ],
      "metadata": {
        "id": "0nDPMGu6bDJC",
        "outputId": "867be377-d004-4585-a6b5-986dd9453115",
        "colab": {
          "base_uri": "https://localhost:8080/"
        }
      },
      "execution_count": 18,
      "outputs": [
        {
          "output_type": "execute_result",
          "data": {
            "text/plain": [
              "tensor([[7863,  662, 6189, 2641,   63, 4169,    1, -100, -100, -100, -100, -100,\n",
              "         -100, -100, -100]])"
            ]
          },
          "metadata": {},
          "execution_count": 18
        }
      ]
    },
    {
      "cell_type": "code",
      "source": [
        "# Deconstruct individual-data-point tuples and collates into batch variables:\n",
        "def collate_fn(batch):\n",
        "    input_ids = torch.stack([torch.flatten(x[0]) for x in batch])\n",
        "    sequence_mask = torch.stack([torch.flatten(x[1]) for x in batch])\n",
        "    target_ids = torch.stack([torch.flatten(x[2]) for x in batch])\n",
        "    target_label = torch.stack([torch.flatten(x[3]) for x in batch])\n",
        "    return input_ids, sequence_mask, target_ids, target_label"
      ],
      "metadata": {
        "id": "GB4PVYY9x3eU"
      },
      "execution_count": 19,
      "outputs": []
    },
    {
      "cell_type": "markdown",
      "source": [
        "### Set up Lightning training module"
      ],
      "metadata": {
        "id": "B4HI57BGsSXA"
      }
    },
    {
      "cell_type": "code",
      "source": [
        "class T5Finetuner(pl.LightningModule):\n",
        "    def __init__(self, model, args, train_data, val_data):\n",
        "        super().__init__()\n",
        "        self.model = model\n",
        "        self.args = args\n",
        "        self.tokenizer = AutoTokenizer.from_pretrained(\n",
        "            MODEL_NAME, cache_dir='./cache/', use_fast=True\n",
        "        )\n",
        "        self.train_data, self.val_data = train_data, val_data\n",
        "\n",
        "    def forward(self, batch, batch_idx):\n",
        "        source_ids, source_mask, target_ids, target_labels = batch\n",
        "        return self.model(\n",
        "            input_ids=source_ids,\n",
        "            attention_mask=source_mask,\n",
        "            decoder_input_ids=target_ids,\n",
        "            labels=target_labels,\n",
        "        )\n",
        "\n",
        "    def training_step(self, batch, batch_idx):\n",
        "        loss = self(batch, batch_idx)[0] # self() is forward() in Lightning\n",
        "        return {'loss': loss, 'log': {'train_loss': loss}}\n",
        "\n",
        "    def validation_step(self, batch, batch_idx): # Lightning knows no backprop in validation\n",
        "        loss = self(batch, batch_idx)[0]\n",
        "        return {'loss': loss}\n",
        "\n",
        "    # data loaders provide clever optimizations like pre-fetching next-needed training data point on additional worker\n",
        "    def train_dataloader(self):\n",
        "        return DataLoader(\n",
        "            self.train_data,\n",
        "            batch_size=self.args['batch_size'],\n",
        "            num_workers=os.cpu_count(),\n",
        "            pin_memory=True,\n",
        "            collate_fn=collate_fn,\n",
        "            prefetch_factor=128, # number of samples to prefetch\n",
        "        )\n",
        "\n",
        "    def val_dataloader(self):\n",
        "        return DataLoader(\n",
        "            self.val_data,\n",
        "            batch_size=self.args['batch_size'],\n",
        "            num_workers=os.cpu_count(),\n",
        "            pin_memory=True,\n",
        "            collate_fn=collate_fn,\n",
        "            prefetch_factor=128, \n",
        "        )\n",
        "\n",
        "    def configure_optimizers(self):\n",
        "        optimizer = torch.optim.AdamW(\n",
        "            self.trainer.model.parameters(), lr=self.args['lr'], weight_decay=0.01\n",
        "        )\n",
        "        scheduler = get_linear_schedule_with_warmup(\n",
        "            optimizer,\n",
        "            num_warmup_steps=5, # initial, slow LR steps can \"warm up\" attention\n",
        "            num_training_steps=self.args['epochs']\n",
        "            * len(self.train_data)\n",
        "            / self.args['batch_size'],\n",
        "        )\n",
        "        return {\"optimizer\": optimizer, \"lr_scheduler\": scheduler}"
      ],
      "metadata": {
        "id": "HR4gdzLxocMD"
      },
      "execution_count": 20,
      "outputs": []
    },
    {
      "cell_type": "markdown",
      "source": [
        "# TO DO\n",
        "\n",
        "* add calculation of loss across all validation data"
      ],
      "metadata": {
        "id": "MT8A8rUg8HV0"
      }
    },
    {
      "cell_type": "markdown",
      "source": [
        "### Vanilla Training"
      ],
      "metadata": {
        "id": "h8DysWFRxJCZ"
      }
    },
    {
      "cell_type": "code",
      "source": [
        "hg_model = T5ForConditionalGeneration.from_pretrained(MODEL_NAME, cache_dir='./cache/')\n",
        "args = {'batch_size': 256, 'epochs': 1, 'lr': 1e-4}\n",
        "pl_model = T5Finetuner(hg_model, args, train_data, val_data)\n",
        "trainer = pl.Trainer(\n",
        "    max_epochs=args['epochs'],\n",
        ")\n",
        "trainer.fit(pl_model)"
      ],
      "metadata": {
        "colab": {
          "base_uri": "https://localhost:8080/",
          "height": 372,
          "referenced_widgets": [
            "533a1eb282484fa29077b1a18ef4c422",
            "475f40cc21b24a4592cc497e65b79b4d",
            "e940689d9329422498c73e505a37b981",
            "7e194bdff1d8421799970d86a7d54405",
            "ed0386e5b4a443a091c9fe3a903e7ac8",
            "19cfa24a8f5b41f7ad2bbadc6399a272",
            "064a9dd02a494fe4a66696a309fe2ba2",
            "750d2a96f05c4b43a7cf6a18ec4cb44f",
            "ba127c3f77f24d0ea9491ee616119070",
            "b9981663691b46afb4c87207a342de7f",
            "e392faab187a48108545ce436f93f70a",
            "f82aaa1ad3e04577bb2812e0dcbb652c",
            "d117b0a8b24b4bc4b8c05104970a7f0a",
            "b1e7c42732804e8991e2542d36ecbdaf",
            "7c56fbec63364405b4947660bfcbfa5a",
            "6e6746bef9d541beb84db952a895fd2d",
            "b537864164254e538f63cc3014d407a9",
            "70e73cca0c7e4fab992c24cfefbea643",
            "109f1621ae4444bea4e2d75ec1c7e4bb",
            "bdb729775b6942648039913f155e68d6",
            "314f9ba9d6aa48099319f1b7bd4f1674",
            "ad62d3de985d41bfa6e0717ef70cb842",
            "bdb79caa6d884d11948f23ad49559a5b",
            "ba5edbb3f06641cab5e378b110197203",
            "859bc3b91eac473ebfb9bad26363eb5b",
            "346b0b1d74f645d983148fadb20337fc",
            "7d92487b03f04d5c9b357e849d904223",
            "8f0235e92d254d52b98b708b4c21f4bc",
            "9bfe3e7220584841b70fc917fac11e8b",
            "d4e4bc0263f84079b20ae797d10a6a30",
            "7acb91c0be934a86a581783ddae9f688",
            "17170febfde4451b8408707989d311ac",
            "ee4b859bc6824e84aca9f31a4a509978"
          ]
        },
        "id": "14AqP34QocQI",
        "outputId": "367e409a-4fd2-4bc7-e8f4-53a9d905e717"
      },
      "execution_count": 27,
      "outputs": [
        {
          "output_type": "stream",
          "name": "stderr",
          "text": [
            "INFO:pytorch_lightning.utilities.rank_zero:GPU available: True (cuda), used: True\n",
            "INFO:pytorch_lightning.utilities.rank_zero:TPU available: False, using: 0 TPU cores\n",
            "INFO:pytorch_lightning.utilities.rank_zero:IPU available: False, using: 0 IPUs\n",
            "INFO:pytorch_lightning.utilities.rank_zero:HPU available: False, using: 0 HPUs\n",
            "INFO:pytorch_lightning.accelerators.cuda:LOCAL_RANK: 0 - CUDA_VISIBLE_DEVICES: [0]\n",
            "INFO:pytorch_lightning.callbacks.model_summary:\n",
            "  | Name  | Type                       | Params\n",
            "-----------------------------------------------------\n",
            "0 | model | T5ForConditionalGeneration | 60.5 M\n",
            "-----------------------------------------------------\n",
            "60.5 M    Trainable params\n",
            "0         Non-trainable params\n",
            "60.5 M    Total params\n",
            "242.026   Total estimated model params size (MB)\n"
          ]
        },
        {
          "output_type": "display_data",
          "data": {
            "text/plain": [
              "Sanity Checking: 0it [00:00, ?it/s]"
            ],
            "application/vnd.jupyter.widget-view+json": {
              "version_major": 2,
              "version_minor": 0,
              "model_id": "533a1eb282484fa29077b1a18ef4c422"
            }
          },
          "metadata": {}
        },
        {
          "output_type": "stream",
          "name": "stderr",
          "text": [
            "/usr/local/lib/python3.10/dist-packages/pytorch_lightning/loops/fit_loop.py:280: PossibleUserWarning: The number of training batches (4) is smaller than the logging interval Trainer(log_every_n_steps=50). Set a lower value for log_every_n_steps if you want to see logs for the training epoch.\n",
            "  rank_zero_warn(\n"
          ]
        },
        {
          "output_type": "display_data",
          "data": {
            "text/plain": [
              "Training: 0it [00:00, ?it/s]"
            ],
            "application/vnd.jupyter.widget-view+json": {
              "version_major": 2,
              "version_minor": 0,
              "model_id": "f82aaa1ad3e04577bb2812e0dcbb652c"
            }
          },
          "metadata": {}
        },
        {
          "output_type": "display_data",
          "data": {
            "text/plain": [
              "Validation: 0it [00:00, ?it/s]"
            ],
            "application/vnd.jupyter.widget-view+json": {
              "version_major": 2,
              "version_minor": 0,
              "model_id": "bdb79caa6d884d11948f23ad49559a5b"
            }
          },
          "metadata": {}
        },
        {
          "output_type": "stream",
          "name": "stderr",
          "text": [
            "INFO:pytorch_lightning.utilities.rank_zero:`Trainer.fit` stopped: `max_epochs=1` reached.\n"
          ]
        }
      ]
    },
    {
      "cell_type": "code",
      "source": [
        "gpu_utilities.print_gpu_utilization()"
      ],
      "metadata": {
        "id": "D9BUWYtA2LHw",
        "outputId": "52b30706-7f02-4866-c787-d17b2b81246c",
        "colab": {
          "base_uri": "https://localhost:8080/"
        }
      },
      "execution_count": 28,
      "outputs": [
        {
          "output_type": "stream",
          "name": "stdout",
          "text": [
            "Device 0 : b'Tesla T4'\n",
            "GPU memory occupied: 395 MB.\n"
          ]
        }
      ]
    },
    {
      "cell_type": "code",
      "source": [
        "! nvidia-smi"
      ],
      "metadata": {
        "id": "vE154kAx3Sz8",
        "outputId": "c33c8e8e-185f-4444-e55d-3a1fdbd66530",
        "colab": {
          "base_uri": "https://localhost:8080/"
        }
      },
      "execution_count": 29,
      "outputs": [
        {
          "output_type": "stream",
          "name": "stdout",
          "text": [
            "Sun Apr 30 01:55:33 2023       \n",
            "+-----------------------------------------------------------------------------+\n",
            "| NVIDIA-SMI 525.85.12    Driver Version: 525.85.12    CUDA Version: 12.0     |\n",
            "|-------------------------------+----------------------+----------------------+\n",
            "| GPU  Name        Persistence-M| Bus-Id        Disp.A | Volatile Uncorr. ECC |\n",
            "| Fan  Temp  Perf  Pwr:Usage/Cap|         Memory-Usage | GPU-Util  Compute M. |\n",
            "|                               |                      |               MIG M. |\n",
            "|===============================+======================+======================|\n",
            "|   0  Tesla T4            Off  | 00000000:00:04.0 Off |                    0 |\n",
            "| N/A   66C    P0    28W /  70W |    137MiB / 15360MiB |      0%      Default |\n",
            "|                               |                      |                  N/A |\n",
            "+-------------------------------+----------------------+----------------------+\n",
            "                                                                               \n",
            "+-----------------------------------------------------------------------------+\n",
            "| Processes:                                                                  |\n",
            "|  GPU   GI   CI        PID   Type   Process name                  GPU Memory |\n",
            "|        ID   ID                                                   Usage      |\n",
            "|=============================================================================|\n",
            "+-----------------------------------------------------------------------------+\n"
          ]
        }
      ]
    },
    {
      "cell_type": "markdown",
      "source": [
        "### Predict"
      ],
      "metadata": {
        "id": "nqpaJ18f6b8N"
      }
    },
    {
      "cell_type": "code",
      "source": [
        "!cat './data/val/0.json'"
      ],
      "metadata": {
        "id": "zUsUmctTcmvp"
      },
      "execution_count": null,
      "outputs": []
    },
    {
      "cell_type": "code",
      "source": [
        "val_ids, val_mask, _, _ = val_data[0]"
      ],
      "metadata": {
        "id": "XKftPiIDdTpW"
      },
      "execution_count": null,
      "outputs": []
    },
    {
      "cell_type": "code",
      "source": [
        "val_ids"
      ],
      "metadata": {
        "id": "IWG1Ila27IF6"
      },
      "execution_count": null,
      "outputs": []
    },
    {
      "cell_type": "code",
      "source": [
        "val_mask"
      ],
      "metadata": {
        "id": "sHFVG_xG7KP7"
      },
      "execution_count": null,
      "outputs": []
    },
    {
      "cell_type": "code",
      "source": [
        "generated_ids = pl_model.model.generate(input_ids=val_ids, attention_mask=val_mask, max_new_tokens=16)"
      ],
      "metadata": {
        "id": "-Rb5XgjAdasu"
      },
      "execution_count": null,
      "outputs": []
    },
    {
      "cell_type": "code",
      "source": [
        "generated_ids"
      ],
      "metadata": {
        "id": "sbPJPh5xUz18"
      },
      "execution_count": null,
      "outputs": []
    },
    {
      "cell_type": "code",
      "source": [
        "prediction =  [\n",
        "              pl_model.tokenizer.decode(g, skip_special_tokens=True, clean_up_tokenization_spaces=True)\n",
        "              for g in generated_ids\n",
        "              ]"
      ],
      "metadata": {
        "id": "GPPMGYrNdn-P"
      },
      "execution_count": null,
      "outputs": []
    },
    {
      "cell_type": "code",
      "source": [
        "prediction"
      ],
      "metadata": {
        "id": "oTR3kUUxdpzj"
      },
      "execution_count": null,
      "outputs": []
    },
    {
      "cell_type": "markdown",
      "source": [
        "# TO DO\n",
        "\n",
        "* Calculate loss across all validation points again to see decrease."
      ],
      "metadata": {
        "id": "Tkh8ATbH8ekX"
      }
    },
    {
      "cell_type": "markdown",
      "source": [
        "Check out the Colab *Resources* tab, which shows GPU memory usage. With:\n",
        "* Larger model\n",
        "* Larger batch size\n",
        "* Larger input/target data\n",
        "\n",
        "...GPU memory (which is often our scarcest resource when training deep learning models) could quickly run out.\n",
        "\n",
        "We could splurge on more GPUs or we could be more clever about how we train. More on that coming up..."
      ],
      "metadata": {
        "id": "Jy9xuPzB-gSd"
      }
    },
    {
      "cell_type": "markdown",
      "source": [
        "**Return to slides here.**"
      ],
      "metadata": {
        "id": "FsVm7pt-84S0"
      }
    },
    {
      "cell_type": "markdown",
      "source": [
        "### Gradient Checkpointing"
      ],
      "metadata": {
        "id": "ssFUsMzAylWW"
      }
    },
    {
      "cell_type": "code",
      "source": [
        "hg_model = T5ForConditionalGeneration.from_pretrained(MODEL_NAME, cache_dir='./cache/')\n",
        "hg_model.gradient_checkpointing_enable() # new!\n",
        "\n",
        "args = {'batch_size': 4, 'epochs': 1, 'lr': 1e-4}\n",
        "pl_model = T5Finetuner(hg_model, args, train_data, val_data)\n",
        "trainer = pl.Trainer(\n",
        "    max_epochs=args['epochs'],\n",
        ")\n",
        "\n",
        "trainer.fit(pl_model)\n",
        "gpu_utilities.print_gpu_utilization()"
      ],
      "metadata": {
        "id": "5lsgTmpbymql"
      },
      "execution_count": null,
      "outputs": []
    },
    {
      "cell_type": "markdown",
      "source": [
        "### Gradient Accumulation"
      ],
      "metadata": {
        "id": "Dlyb-PldzKyW"
      }
    },
    {
      "cell_type": "code",
      "source": [
        "hg_model = T5ForConditionalGeneration.from_pretrained(MODEL_NAME, cache_dir='./cache/')\n",
        "hg_model.gradient_checkpointing_enable()\n",
        "\n",
        "args = {'batch_size': 4, 'epochs': 1, 'lr': 1e-4}\n",
        "pl_model = T5Finetuner(hg_model, args, train_data, val_data)\n",
        "\n",
        "trainer = pl.Trainer(\n",
        "    max_epochs=args['epochs'],\n",
        "    accumulate_grad_batches=4, # new!\n",
        ")\n",
        "trainer.fit(pl_model)\n",
        "gpu_utilities.print_gpu_utilization()"
      ],
      "metadata": {
        "id": "E5ydTmE_yw63"
      },
      "execution_count": null,
      "outputs": []
    },
    {
      "cell_type": "markdown",
      "source": [
        "### Mixed Precision"
      ],
      "metadata": {
        "id": "Aw-Z8hjvyxLi"
      }
    },
    {
      "cell_type": "code",
      "source": [
        "hg_model = T5ForConditionalGeneration.from_pretrained(MODEL_NAME, cache_dir='./cache/')\n",
        "hg_model.gradient_checkpointing_enable()\n",
        "\n",
        "args = {'batch_size': 4, 'epochs': 1, 'lr': 1e-4}\n",
        "pl_model = T5Finetuner(hg_model, args, train_data, val_data)\n",
        "\n",
        "trainer = pl.Trainer(\n",
        "    max_epochs=args['epochs'],\n",
        "    precision=\"16-mixed\", # new!\n",
        "    accumulate_grad_batches=4,\n",
        ")\n",
        "trainer.fit(pl_model)\n",
        "gpu_utilities.print_gpu_utilization()"
      ],
      "metadata": {
        "id": "YJu6AZroyyNd"
      },
      "execution_count": null,
      "outputs": []
    },
    {
      "cell_type": "markdown",
      "source": [
        "### PEFT with LoRA\n",
        " \n",
        "Parameter-Efficient Fine-Tuning with Low-Rank Adaptation"
      ],
      "metadata": {
        "id": "hH4Ey4LCzJRR"
      }
    },
    {
      "cell_type": "code",
      "source": [
        "hg_model = T5ForConditionalGeneration.from_pretrained(MODEL_NAME, cache_dir='./cache/')\n",
        "hg_model.enable_input_require_grads()\n",
        "peft_config = LoraConfig(\n",
        "    task_type=TaskType.SEQ_2_SEQ_LM,\n",
        "    inference_mode=False,\n",
        "    r=8,\n",
        "    lora_alpha=32,\n",
        "    lora_dropout=0.1,\n",
        ")\n",
        "hg_model = get_peft_model(hg_model, peft_config)\n",
        "hg_model.print_trainable_parameters()"
      ],
      "metadata": {
        "id": "qYO2fFPnzako"
      },
      "execution_count": null,
      "outputs": []
    },
    {
      "cell_type": "code",
      "source": [
        "hg_model.gradient_checkpointing_enable()\n",
        "\n",
        "args = {'batch_size': 4, 'epochs': 1, 'lr': 1e-4}\n",
        "pl_model = T5Finetuner(hg_model, args, train_data, val_data)\n",
        "\n",
        "trainer = pl.Trainer(\n",
        "    max_epochs=args['epochs'],\n",
        "    precision=\"16-mixed\",\n",
        "    accumulate_grad_batches=4,\n",
        ")\n",
        "trainer.fit(pl_model)\n",
        "gpu_utilities.print_gpu_utilization()"
      ],
      "metadata": {
        "id": "ay6bmBGTzmW1"
      },
      "execution_count": null,
      "outputs": []
    }
  ]
}