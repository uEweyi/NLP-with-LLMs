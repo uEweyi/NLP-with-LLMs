{
  "nbformat": 4,
  "nbformat_minor": 0,
  "metadata": {
    "colab": {
      "provenance": [],
      "include_colab_link": true
    },
    "kernelspec": {
      "name": "python3",
      "display_name": "Python 3"
    },
    "language_info": {
      "name": "python"
    },
    "gpuClass": "standard",
    "accelerator": "GPU",
    "widgets": {
      "application/vnd.jupyter.widget-state+json": {
        "8d0346e59c03413e8815f191f5353bba": {
          "model_module": "@jupyter-widgets/controls",
          "model_name": "HBoxModel",
          "model_module_version": "1.5.0",
          "state": {
            "_dom_classes": [],
            "_model_module": "@jupyter-widgets/controls",
            "_model_module_version": "1.5.0",
            "_model_name": "HBoxModel",
            "_view_count": null,
            "_view_module": "@jupyter-widgets/controls",
            "_view_module_version": "1.5.0",
            "_view_name": "HBoxView",
            "box_style": "",
            "children": [
              "IPY_MODEL_3ab85609c13844dda30a2e8ea7fcd8f8",
              "IPY_MODEL_11213e99851148eaad1cacef333c0fb9",
              "IPY_MODEL_397121297f2d4a09b79992abc2c76423"
            ],
            "layout": "IPY_MODEL_040f9b8ee2494c838219d1cbd7f29aba"
          }
        },
        "3ab85609c13844dda30a2e8ea7fcd8f8": {
          "model_module": "@jupyter-widgets/controls",
          "model_name": "HTMLModel",
          "model_module_version": "1.5.0",
          "state": {
            "_dom_classes": [],
            "_model_module": "@jupyter-widgets/controls",
            "_model_module_version": "1.5.0",
            "_model_name": "HTMLModel",
            "_view_count": null,
            "_view_module": "@jupyter-widgets/controls",
            "_view_module_version": "1.5.0",
            "_view_name": "HTMLView",
            "description": "",
            "description_tooltip": null,
            "layout": "IPY_MODEL_9e21c39e2eb049fdbc511281d35984ad",
            "placeholder": "​",
            "style": "IPY_MODEL_d2eeb050bd0e4704864c05510f705c4b",
            "value": "Sanity Checking DataLoader 0: 100%"
          }
        },
        "11213e99851148eaad1cacef333c0fb9": {
          "model_module": "@jupyter-widgets/controls",
          "model_name": "FloatProgressModel",
          "model_module_version": "1.5.0",
          "state": {
            "_dom_classes": [],
            "_model_module": "@jupyter-widgets/controls",
            "_model_module_version": "1.5.0",
            "_model_name": "FloatProgressModel",
            "_view_count": null,
            "_view_module": "@jupyter-widgets/controls",
            "_view_module_version": "1.5.0",
            "_view_name": "ProgressView",
            "bar_style": "",
            "description": "",
            "description_tooltip": null,
            "layout": "IPY_MODEL_e39c76c01bff42ce9e80665321b84e2a",
            "max": 2,
            "min": 0,
            "orientation": "horizontal",
            "style": "IPY_MODEL_5714b1249bb1492ca53da717ecfc429e",
            "value": 2
          }
        },
        "397121297f2d4a09b79992abc2c76423": {
          "model_module": "@jupyter-widgets/controls",
          "model_name": "HTMLModel",
          "model_module_version": "1.5.0",
          "state": {
            "_dom_classes": [],
            "_model_module": "@jupyter-widgets/controls",
            "_model_module_version": "1.5.0",
            "_model_name": "HTMLModel",
            "_view_count": null,
            "_view_module": "@jupyter-widgets/controls",
            "_view_module_version": "1.5.0",
            "_view_name": "HTMLView",
            "description": "",
            "description_tooltip": null,
            "layout": "IPY_MODEL_e45896027f1e4cedbdd0a1dfe947c526",
            "placeholder": "​",
            "style": "IPY_MODEL_06e21632757b4dfe97d7c2faf2b961ea",
            "value": " 2/2 [00:00&lt;00:00,  3.42it/s]"
          }
        },
        "040f9b8ee2494c838219d1cbd7f29aba": {
          "model_module": "@jupyter-widgets/base",
          "model_name": "LayoutModel",
          "model_module_version": "1.2.0",
          "state": {
            "_model_module": "@jupyter-widgets/base",
            "_model_module_version": "1.2.0",
            "_model_name": "LayoutModel",
            "_view_count": null,
            "_view_module": "@jupyter-widgets/base",
            "_view_module_version": "1.2.0",
            "_view_name": "LayoutView",
            "align_content": null,
            "align_items": null,
            "align_self": null,
            "border": null,
            "bottom": null,
            "display": "inline-flex",
            "flex": null,
            "flex_flow": "row wrap",
            "grid_area": null,
            "grid_auto_columns": null,
            "grid_auto_flow": null,
            "grid_auto_rows": null,
            "grid_column": null,
            "grid_gap": null,
            "grid_row": null,
            "grid_template_areas": null,
            "grid_template_columns": null,
            "grid_template_rows": null,
            "height": null,
            "justify_content": null,
            "justify_items": null,
            "left": null,
            "margin": null,
            "max_height": null,
            "max_width": null,
            "min_height": null,
            "min_width": null,
            "object_fit": null,
            "object_position": null,
            "order": null,
            "overflow": null,
            "overflow_x": null,
            "overflow_y": null,
            "padding": null,
            "right": null,
            "top": null,
            "visibility": "hidden",
            "width": "100%"
          }
        },
        "9e21c39e2eb049fdbc511281d35984ad": {
          "model_module": "@jupyter-widgets/base",
          "model_name": "LayoutModel",
          "model_module_version": "1.2.0",
          "state": {
            "_model_module": "@jupyter-widgets/base",
            "_model_module_version": "1.2.0",
            "_model_name": "LayoutModel",
            "_view_count": null,
            "_view_module": "@jupyter-widgets/base",
            "_view_module_version": "1.2.0",
            "_view_name": "LayoutView",
            "align_content": null,
            "align_items": null,
            "align_self": null,
            "border": null,
            "bottom": null,
            "display": null,
            "flex": null,
            "flex_flow": null,
            "grid_area": null,
            "grid_auto_columns": null,
            "grid_auto_flow": null,
            "grid_auto_rows": null,
            "grid_column": null,
            "grid_gap": null,
            "grid_row": null,
            "grid_template_areas": null,
            "grid_template_columns": null,
            "grid_template_rows": null,
            "height": null,
            "justify_content": null,
            "justify_items": null,
            "left": null,
            "margin": null,
            "max_height": null,
            "max_width": null,
            "min_height": null,
            "min_width": null,
            "object_fit": null,
            "object_position": null,
            "order": null,
            "overflow": null,
            "overflow_x": null,
            "overflow_y": null,
            "padding": null,
            "right": null,
            "top": null,
            "visibility": null,
            "width": null
          }
        },
        "d2eeb050bd0e4704864c05510f705c4b": {
          "model_module": "@jupyter-widgets/controls",
          "model_name": "DescriptionStyleModel",
          "model_module_version": "1.5.0",
          "state": {
            "_model_module": "@jupyter-widgets/controls",
            "_model_module_version": "1.5.0",
            "_model_name": "DescriptionStyleModel",
            "_view_count": null,
            "_view_module": "@jupyter-widgets/base",
            "_view_module_version": "1.2.0",
            "_view_name": "StyleView",
            "description_width": ""
          }
        },
        "e39c76c01bff42ce9e80665321b84e2a": {
          "model_module": "@jupyter-widgets/base",
          "model_name": "LayoutModel",
          "model_module_version": "1.2.0",
          "state": {
            "_model_module": "@jupyter-widgets/base",
            "_model_module_version": "1.2.0",
            "_model_name": "LayoutModel",
            "_view_count": null,
            "_view_module": "@jupyter-widgets/base",
            "_view_module_version": "1.2.0",
            "_view_name": "LayoutView",
            "align_content": null,
            "align_items": null,
            "align_self": null,
            "border": null,
            "bottom": null,
            "display": null,
            "flex": "2",
            "flex_flow": null,
            "grid_area": null,
            "grid_auto_columns": null,
            "grid_auto_flow": null,
            "grid_auto_rows": null,
            "grid_column": null,
            "grid_gap": null,
            "grid_row": null,
            "grid_template_areas": null,
            "grid_template_columns": null,
            "grid_template_rows": null,
            "height": null,
            "justify_content": null,
            "justify_items": null,
            "left": null,
            "margin": null,
            "max_height": null,
            "max_width": null,
            "min_height": null,
            "min_width": null,
            "object_fit": null,
            "object_position": null,
            "order": null,
            "overflow": null,
            "overflow_x": null,
            "overflow_y": null,
            "padding": null,
            "right": null,
            "top": null,
            "visibility": null,
            "width": null
          }
        },
        "5714b1249bb1492ca53da717ecfc429e": {
          "model_module": "@jupyter-widgets/controls",
          "model_name": "ProgressStyleModel",
          "model_module_version": "1.5.0",
          "state": {
            "_model_module": "@jupyter-widgets/controls",
            "_model_module_version": "1.5.0",
            "_model_name": "ProgressStyleModel",
            "_view_count": null,
            "_view_module": "@jupyter-widgets/base",
            "_view_module_version": "1.2.0",
            "_view_name": "StyleView",
            "bar_color": null,
            "description_width": ""
          }
        },
        "e45896027f1e4cedbdd0a1dfe947c526": {
          "model_module": "@jupyter-widgets/base",
          "model_name": "LayoutModel",
          "model_module_version": "1.2.0",
          "state": {
            "_model_module": "@jupyter-widgets/base",
            "_model_module_version": "1.2.0",
            "_model_name": "LayoutModel",
            "_view_count": null,
            "_view_module": "@jupyter-widgets/base",
            "_view_module_version": "1.2.0",
            "_view_name": "LayoutView",
            "align_content": null,
            "align_items": null,
            "align_self": null,
            "border": null,
            "bottom": null,
            "display": null,
            "flex": null,
            "flex_flow": null,
            "grid_area": null,
            "grid_auto_columns": null,
            "grid_auto_flow": null,
            "grid_auto_rows": null,
            "grid_column": null,
            "grid_gap": null,
            "grid_row": null,
            "grid_template_areas": null,
            "grid_template_columns": null,
            "grid_template_rows": null,
            "height": null,
            "justify_content": null,
            "justify_items": null,
            "left": null,
            "margin": null,
            "max_height": null,
            "max_width": null,
            "min_height": null,
            "min_width": null,
            "object_fit": null,
            "object_position": null,
            "order": null,
            "overflow": null,
            "overflow_x": null,
            "overflow_y": null,
            "padding": null,
            "right": null,
            "top": null,
            "visibility": null,
            "width": null
          }
        },
        "06e21632757b4dfe97d7c2faf2b961ea": {
          "model_module": "@jupyter-widgets/controls",
          "model_name": "DescriptionStyleModel",
          "model_module_version": "1.5.0",
          "state": {
            "_model_module": "@jupyter-widgets/controls",
            "_model_module_version": "1.5.0",
            "_model_name": "DescriptionStyleModel",
            "_view_count": null,
            "_view_module": "@jupyter-widgets/base",
            "_view_module_version": "1.2.0",
            "_view_name": "StyleView",
            "description_width": ""
          }
        },
        "b39621a7892044549755df463fa8a3fc": {
          "model_module": "@jupyter-widgets/controls",
          "model_name": "HBoxModel",
          "model_module_version": "1.5.0",
          "state": {
            "_dom_classes": [],
            "_model_module": "@jupyter-widgets/controls",
            "_model_module_version": "1.5.0",
            "_model_name": "HBoxModel",
            "_view_count": null,
            "_view_module": "@jupyter-widgets/controls",
            "_view_module_version": "1.5.0",
            "_view_name": "HBoxView",
            "box_style": "",
            "children": [
              "IPY_MODEL_b0146cff555148c8a5fa17a42fda3a37",
              "IPY_MODEL_db7a42f003cf4c2cbe500b583d534ac0",
              "IPY_MODEL_426625e75db646749dcbeae668807308"
            ],
            "layout": "IPY_MODEL_aee85c6a936341b7899060fc13903a1f"
          }
        },
        "b0146cff555148c8a5fa17a42fda3a37": {
          "model_module": "@jupyter-widgets/controls",
          "model_name": "HTMLModel",
          "model_module_version": "1.5.0",
          "state": {
            "_dom_classes": [],
            "_model_module": "@jupyter-widgets/controls",
            "_model_module_version": "1.5.0",
            "_model_name": "HTMLModel",
            "_view_count": null,
            "_view_module": "@jupyter-widgets/controls",
            "_view_module_version": "1.5.0",
            "_view_name": "HTMLView",
            "description": "",
            "description_tooltip": null,
            "layout": "IPY_MODEL_e3dfd7f904a4418ebe54c4cdd335f2e4",
            "placeholder": "​",
            "style": "IPY_MODEL_f04f24e655904291b2b22c0dae88c862",
            "value": "Epoch 0: 100%"
          }
        },
        "db7a42f003cf4c2cbe500b583d534ac0": {
          "model_module": "@jupyter-widgets/controls",
          "model_name": "FloatProgressModel",
          "model_module_version": "1.5.0",
          "state": {
            "_dom_classes": [],
            "_model_module": "@jupyter-widgets/controls",
            "_model_module_version": "1.5.0",
            "_model_name": "FloatProgressModel",
            "_view_count": null,
            "_view_module": "@jupyter-widgets/controls",
            "_view_module_version": "1.5.0",
            "_view_name": "ProgressView",
            "bar_style": "success",
            "description": "",
            "description_tooltip": null,
            "layout": "IPY_MODEL_fb22c6ffc6e54b03b01b97ee8ca42c92",
            "max": 250,
            "min": 0,
            "orientation": "horizontal",
            "style": "IPY_MODEL_85a269e600114daeba94f4d1da6a846f",
            "value": 250
          }
        },
        "426625e75db646749dcbeae668807308": {
          "model_module": "@jupyter-widgets/controls",
          "model_name": "HTMLModel",
          "model_module_version": "1.5.0",
          "state": {
            "_dom_classes": [],
            "_model_module": "@jupyter-widgets/controls",
            "_model_module_version": "1.5.0",
            "_model_name": "HTMLModel",
            "_view_count": null,
            "_view_module": "@jupyter-widgets/controls",
            "_view_module_version": "1.5.0",
            "_view_name": "HTMLView",
            "description": "",
            "description_tooltip": null,
            "layout": "IPY_MODEL_72d69cb2f9d448ed89d988178f8cedda",
            "placeholder": "​",
            "style": "IPY_MODEL_e9d4c577cab64eb2ba8bd3eb76748e8a",
            "value": " 250/250 [00:29&lt;00:00,  8.58it/s, v_num=1]"
          }
        },
        "aee85c6a936341b7899060fc13903a1f": {
          "model_module": "@jupyter-widgets/base",
          "model_name": "LayoutModel",
          "model_module_version": "1.2.0",
          "state": {
            "_model_module": "@jupyter-widgets/base",
            "_model_module_version": "1.2.0",
            "_model_name": "LayoutModel",
            "_view_count": null,
            "_view_module": "@jupyter-widgets/base",
            "_view_module_version": "1.2.0",
            "_view_name": "LayoutView",
            "align_content": null,
            "align_items": null,
            "align_self": null,
            "border": null,
            "bottom": null,
            "display": "inline-flex",
            "flex": null,
            "flex_flow": "row wrap",
            "grid_area": null,
            "grid_auto_columns": null,
            "grid_auto_flow": null,
            "grid_auto_rows": null,
            "grid_column": null,
            "grid_gap": null,
            "grid_row": null,
            "grid_template_areas": null,
            "grid_template_columns": null,
            "grid_template_rows": null,
            "height": null,
            "justify_content": null,
            "justify_items": null,
            "left": null,
            "margin": null,
            "max_height": null,
            "max_width": null,
            "min_height": null,
            "min_width": null,
            "object_fit": null,
            "object_position": null,
            "order": null,
            "overflow": null,
            "overflow_x": null,
            "overflow_y": null,
            "padding": null,
            "right": null,
            "top": null,
            "visibility": null,
            "width": "100%"
          }
        },
        "e3dfd7f904a4418ebe54c4cdd335f2e4": {
          "model_module": "@jupyter-widgets/base",
          "model_name": "LayoutModel",
          "model_module_version": "1.2.0",
          "state": {
            "_model_module": "@jupyter-widgets/base",
            "_model_module_version": "1.2.0",
            "_model_name": "LayoutModel",
            "_view_count": null,
            "_view_module": "@jupyter-widgets/base",
            "_view_module_version": "1.2.0",
            "_view_name": "LayoutView",
            "align_content": null,
            "align_items": null,
            "align_self": null,
            "border": null,
            "bottom": null,
            "display": null,
            "flex": null,
            "flex_flow": null,
            "grid_area": null,
            "grid_auto_columns": null,
            "grid_auto_flow": null,
            "grid_auto_rows": null,
            "grid_column": null,
            "grid_gap": null,
            "grid_row": null,
            "grid_template_areas": null,
            "grid_template_columns": null,
            "grid_template_rows": null,
            "height": null,
            "justify_content": null,
            "justify_items": null,
            "left": null,
            "margin": null,
            "max_height": null,
            "max_width": null,
            "min_height": null,
            "min_width": null,
            "object_fit": null,
            "object_position": null,
            "order": null,
            "overflow": null,
            "overflow_x": null,
            "overflow_y": null,
            "padding": null,
            "right": null,
            "top": null,
            "visibility": null,
            "width": null
          }
        },
        "f04f24e655904291b2b22c0dae88c862": {
          "model_module": "@jupyter-widgets/controls",
          "model_name": "DescriptionStyleModel",
          "model_module_version": "1.5.0",
          "state": {
            "_model_module": "@jupyter-widgets/controls",
            "_model_module_version": "1.5.0",
            "_model_name": "DescriptionStyleModel",
            "_view_count": null,
            "_view_module": "@jupyter-widgets/base",
            "_view_module_version": "1.2.0",
            "_view_name": "StyleView",
            "description_width": ""
          }
        },
        "fb22c6ffc6e54b03b01b97ee8ca42c92": {
          "model_module": "@jupyter-widgets/base",
          "model_name": "LayoutModel",
          "model_module_version": "1.2.0",
          "state": {
            "_model_module": "@jupyter-widgets/base",
            "_model_module_version": "1.2.0",
            "_model_name": "LayoutModel",
            "_view_count": null,
            "_view_module": "@jupyter-widgets/base",
            "_view_module_version": "1.2.0",
            "_view_name": "LayoutView",
            "align_content": null,
            "align_items": null,
            "align_self": null,
            "border": null,
            "bottom": null,
            "display": null,
            "flex": "2",
            "flex_flow": null,
            "grid_area": null,
            "grid_auto_columns": null,
            "grid_auto_flow": null,
            "grid_auto_rows": null,
            "grid_column": null,
            "grid_gap": null,
            "grid_row": null,
            "grid_template_areas": null,
            "grid_template_columns": null,
            "grid_template_rows": null,
            "height": null,
            "justify_content": null,
            "justify_items": null,
            "left": null,
            "margin": null,
            "max_height": null,
            "max_width": null,
            "min_height": null,
            "min_width": null,
            "object_fit": null,
            "object_position": null,
            "order": null,
            "overflow": null,
            "overflow_x": null,
            "overflow_y": null,
            "padding": null,
            "right": null,
            "top": null,
            "visibility": null,
            "width": null
          }
        },
        "85a269e600114daeba94f4d1da6a846f": {
          "model_module": "@jupyter-widgets/controls",
          "model_name": "ProgressStyleModel",
          "model_module_version": "1.5.0",
          "state": {
            "_model_module": "@jupyter-widgets/controls",
            "_model_module_version": "1.5.0",
            "_model_name": "ProgressStyleModel",
            "_view_count": null,
            "_view_module": "@jupyter-widgets/base",
            "_view_module_version": "1.2.0",
            "_view_name": "StyleView",
            "bar_color": null,
            "description_width": ""
          }
        },
        "72d69cb2f9d448ed89d988178f8cedda": {
          "model_module": "@jupyter-widgets/base",
          "model_name": "LayoutModel",
          "model_module_version": "1.2.0",
          "state": {
            "_model_module": "@jupyter-widgets/base",
            "_model_module_version": "1.2.0",
            "_model_name": "LayoutModel",
            "_view_count": null,
            "_view_module": "@jupyter-widgets/base",
            "_view_module_version": "1.2.0",
            "_view_name": "LayoutView",
            "align_content": null,
            "align_items": null,
            "align_self": null,
            "border": null,
            "bottom": null,
            "display": null,
            "flex": null,
            "flex_flow": null,
            "grid_area": null,
            "grid_auto_columns": null,
            "grid_auto_flow": null,
            "grid_auto_rows": null,
            "grid_column": null,
            "grid_gap": null,
            "grid_row": null,
            "grid_template_areas": null,
            "grid_template_columns": null,
            "grid_template_rows": null,
            "height": null,
            "justify_content": null,
            "justify_items": null,
            "left": null,
            "margin": null,
            "max_height": null,
            "max_width": null,
            "min_height": null,
            "min_width": null,
            "object_fit": null,
            "object_position": null,
            "order": null,
            "overflow": null,
            "overflow_x": null,
            "overflow_y": null,
            "padding": null,
            "right": null,
            "top": null,
            "visibility": null,
            "width": null
          }
        },
        "e9d4c577cab64eb2ba8bd3eb76748e8a": {
          "model_module": "@jupyter-widgets/controls",
          "model_name": "DescriptionStyleModel",
          "model_module_version": "1.5.0",
          "state": {
            "_model_module": "@jupyter-widgets/controls",
            "_model_module_version": "1.5.0",
            "_model_name": "DescriptionStyleModel",
            "_view_count": null,
            "_view_module": "@jupyter-widgets/base",
            "_view_module_version": "1.2.0",
            "_view_name": "StyleView",
            "description_width": ""
          }
        },
        "083ca5660a414d0694176271fe8e2b41": {
          "model_module": "@jupyter-widgets/controls",
          "model_name": "HBoxModel",
          "model_module_version": "1.5.0",
          "state": {
            "_dom_classes": [],
            "_model_module": "@jupyter-widgets/controls",
            "_model_module_version": "1.5.0",
            "_model_name": "HBoxModel",
            "_view_count": null,
            "_view_module": "@jupyter-widgets/controls",
            "_view_module_version": "1.5.0",
            "_view_name": "HBoxView",
            "box_style": "",
            "children": [
              "IPY_MODEL_0cda0b2980ad41dc85188eca8ed83a6d",
              "IPY_MODEL_3734803a696c49ed8a0c8bb6b21501dc",
              "IPY_MODEL_d675cda81d5546c0b96821811f1d75f0"
            ],
            "layout": "IPY_MODEL_ad14fdd93dac456b91966fbbe3ecbfc6"
          }
        },
        "0cda0b2980ad41dc85188eca8ed83a6d": {
          "model_module": "@jupyter-widgets/controls",
          "model_name": "HTMLModel",
          "model_module_version": "1.5.0",
          "state": {
            "_dom_classes": [],
            "_model_module": "@jupyter-widgets/controls",
            "_model_module_version": "1.5.0",
            "_model_name": "HTMLModel",
            "_view_count": null,
            "_view_module": "@jupyter-widgets/controls",
            "_view_module_version": "1.5.0",
            "_view_name": "HTMLView",
            "description": "",
            "description_tooltip": null,
            "layout": "IPY_MODEL_5937e6ac9f634e8ea3aabbab8f182cbf",
            "placeholder": "​",
            "style": "IPY_MODEL_57df70bac79b42fd8d08699ccaea222e",
            "value": "Validation DataLoader 0: 100%"
          }
        },
        "3734803a696c49ed8a0c8bb6b21501dc": {
          "model_module": "@jupyter-widgets/controls",
          "model_name": "FloatProgressModel",
          "model_module_version": "1.5.0",
          "state": {
            "_dom_classes": [],
            "_model_module": "@jupyter-widgets/controls",
            "_model_module_version": "1.5.0",
            "_model_name": "FloatProgressModel",
            "_view_count": null,
            "_view_module": "@jupyter-widgets/controls",
            "_view_module_version": "1.5.0",
            "_view_name": "ProgressView",
            "bar_style": "",
            "description": "",
            "description_tooltip": null,
            "layout": "IPY_MODEL_d414f951a1d148aabe50dd29f6774ed1",
            "max": 50,
            "min": 0,
            "orientation": "horizontal",
            "style": "IPY_MODEL_aa1278f3c4224e9eb5b395f1aa57a10b",
            "value": 50
          }
        },
        "d675cda81d5546c0b96821811f1d75f0": {
          "model_module": "@jupyter-widgets/controls",
          "model_name": "HTMLModel",
          "model_module_version": "1.5.0",
          "state": {
            "_dom_classes": [],
            "_model_module": "@jupyter-widgets/controls",
            "_model_module_version": "1.5.0",
            "_model_name": "HTMLModel",
            "_view_count": null,
            "_view_module": "@jupyter-widgets/controls",
            "_view_module_version": "1.5.0",
            "_view_name": "HTMLView",
            "description": "",
            "description_tooltip": null,
            "layout": "IPY_MODEL_0a839206b6df44bca0dba4fee032662e",
            "placeholder": "​",
            "style": "IPY_MODEL_158ec87473164493a87a5175b2f2815c",
            "value": " 50/50 [00:00&lt;00:00, 53.44it/s]"
          }
        },
        "ad14fdd93dac456b91966fbbe3ecbfc6": {
          "model_module": "@jupyter-widgets/base",
          "model_name": "LayoutModel",
          "model_module_version": "1.2.0",
          "state": {
            "_model_module": "@jupyter-widgets/base",
            "_model_module_version": "1.2.0",
            "_model_name": "LayoutModel",
            "_view_count": null,
            "_view_module": "@jupyter-widgets/base",
            "_view_module_version": "1.2.0",
            "_view_name": "LayoutView",
            "align_content": null,
            "align_items": null,
            "align_self": null,
            "border": null,
            "bottom": null,
            "display": "inline-flex",
            "flex": null,
            "flex_flow": "row wrap",
            "grid_area": null,
            "grid_auto_columns": null,
            "grid_auto_flow": null,
            "grid_auto_rows": null,
            "grid_column": null,
            "grid_gap": null,
            "grid_row": null,
            "grid_template_areas": null,
            "grid_template_columns": null,
            "grid_template_rows": null,
            "height": null,
            "justify_content": null,
            "justify_items": null,
            "left": null,
            "margin": null,
            "max_height": null,
            "max_width": null,
            "min_height": null,
            "min_width": null,
            "object_fit": null,
            "object_position": null,
            "order": null,
            "overflow": null,
            "overflow_x": null,
            "overflow_y": null,
            "padding": null,
            "right": null,
            "top": null,
            "visibility": "hidden",
            "width": "100%"
          }
        },
        "5937e6ac9f634e8ea3aabbab8f182cbf": {
          "model_module": "@jupyter-widgets/base",
          "model_name": "LayoutModel",
          "model_module_version": "1.2.0",
          "state": {
            "_model_module": "@jupyter-widgets/base",
            "_model_module_version": "1.2.0",
            "_model_name": "LayoutModel",
            "_view_count": null,
            "_view_module": "@jupyter-widgets/base",
            "_view_module_version": "1.2.0",
            "_view_name": "LayoutView",
            "align_content": null,
            "align_items": null,
            "align_self": null,
            "border": null,
            "bottom": null,
            "display": null,
            "flex": null,
            "flex_flow": null,
            "grid_area": null,
            "grid_auto_columns": null,
            "grid_auto_flow": null,
            "grid_auto_rows": null,
            "grid_column": null,
            "grid_gap": null,
            "grid_row": null,
            "grid_template_areas": null,
            "grid_template_columns": null,
            "grid_template_rows": null,
            "height": null,
            "justify_content": null,
            "justify_items": null,
            "left": null,
            "margin": null,
            "max_height": null,
            "max_width": null,
            "min_height": null,
            "min_width": null,
            "object_fit": null,
            "object_position": null,
            "order": null,
            "overflow": null,
            "overflow_x": null,
            "overflow_y": null,
            "padding": null,
            "right": null,
            "top": null,
            "visibility": null,
            "width": null
          }
        },
        "57df70bac79b42fd8d08699ccaea222e": {
          "model_module": "@jupyter-widgets/controls",
          "model_name": "DescriptionStyleModel",
          "model_module_version": "1.5.0",
          "state": {
            "_model_module": "@jupyter-widgets/controls",
            "_model_module_version": "1.5.0",
            "_model_name": "DescriptionStyleModel",
            "_view_count": null,
            "_view_module": "@jupyter-widgets/base",
            "_view_module_version": "1.2.0",
            "_view_name": "StyleView",
            "description_width": ""
          }
        },
        "d414f951a1d148aabe50dd29f6774ed1": {
          "model_module": "@jupyter-widgets/base",
          "model_name": "LayoutModel",
          "model_module_version": "1.2.0",
          "state": {
            "_model_module": "@jupyter-widgets/base",
            "_model_module_version": "1.2.0",
            "_model_name": "LayoutModel",
            "_view_count": null,
            "_view_module": "@jupyter-widgets/base",
            "_view_module_version": "1.2.0",
            "_view_name": "LayoutView",
            "align_content": null,
            "align_items": null,
            "align_self": null,
            "border": null,
            "bottom": null,
            "display": null,
            "flex": "2",
            "flex_flow": null,
            "grid_area": null,
            "grid_auto_columns": null,
            "grid_auto_flow": null,
            "grid_auto_rows": null,
            "grid_column": null,
            "grid_gap": null,
            "grid_row": null,
            "grid_template_areas": null,
            "grid_template_columns": null,
            "grid_template_rows": null,
            "height": null,
            "justify_content": null,
            "justify_items": null,
            "left": null,
            "margin": null,
            "max_height": null,
            "max_width": null,
            "min_height": null,
            "min_width": null,
            "object_fit": null,
            "object_position": null,
            "order": null,
            "overflow": null,
            "overflow_x": null,
            "overflow_y": null,
            "padding": null,
            "right": null,
            "top": null,
            "visibility": null,
            "width": null
          }
        },
        "aa1278f3c4224e9eb5b395f1aa57a10b": {
          "model_module": "@jupyter-widgets/controls",
          "model_name": "ProgressStyleModel",
          "model_module_version": "1.5.0",
          "state": {
            "_model_module": "@jupyter-widgets/controls",
            "_model_module_version": "1.5.0",
            "_model_name": "ProgressStyleModel",
            "_view_count": null,
            "_view_module": "@jupyter-widgets/base",
            "_view_module_version": "1.2.0",
            "_view_name": "StyleView",
            "bar_color": null,
            "description_width": ""
          }
        },
        "0a839206b6df44bca0dba4fee032662e": {
          "model_module": "@jupyter-widgets/base",
          "model_name": "LayoutModel",
          "model_module_version": "1.2.0",
          "state": {
            "_model_module": "@jupyter-widgets/base",
            "_model_module_version": "1.2.0",
            "_model_name": "LayoutModel",
            "_view_count": null,
            "_view_module": "@jupyter-widgets/base",
            "_view_module_version": "1.2.0",
            "_view_name": "LayoutView",
            "align_content": null,
            "align_items": null,
            "align_self": null,
            "border": null,
            "bottom": null,
            "display": null,
            "flex": null,
            "flex_flow": null,
            "grid_area": null,
            "grid_auto_columns": null,
            "grid_auto_flow": null,
            "grid_auto_rows": null,
            "grid_column": null,
            "grid_gap": null,
            "grid_row": null,
            "grid_template_areas": null,
            "grid_template_columns": null,
            "grid_template_rows": null,
            "height": null,
            "justify_content": null,
            "justify_items": null,
            "left": null,
            "margin": null,
            "max_height": null,
            "max_width": null,
            "min_height": null,
            "min_width": null,
            "object_fit": null,
            "object_position": null,
            "order": null,
            "overflow": null,
            "overflow_x": null,
            "overflow_y": null,
            "padding": null,
            "right": null,
            "top": null,
            "visibility": null,
            "width": null
          }
        },
        "158ec87473164493a87a5175b2f2815c": {
          "model_module": "@jupyter-widgets/controls",
          "model_name": "DescriptionStyleModel",
          "model_module_version": "1.5.0",
          "state": {
            "_model_module": "@jupyter-widgets/controls",
            "_model_module_version": "1.5.0",
            "_model_name": "DescriptionStyleModel",
            "_view_count": null,
            "_view_module": "@jupyter-widgets/base",
            "_view_module_version": "1.2.0",
            "_view_name": "StyleView",
            "description_width": ""
          }
        }
      }
    }
  },
  "cells": [
    {
      "cell_type": "markdown",
      "metadata": {
        "id": "view-in-github",
        "colab_type": "text"
      },
      "source": [
        "<a href=\"https://colab.research.google.com/github/jonkrohn/NLP-with-LLMs/blob/main/code/Single-GPU-T5.ipynb\" target=\"_parent\"><img src=\"https://colab.research.google.com/assets/colab-badge.svg\" alt=\"Open In Colab\"/></a>"
      ]
    },
    {
      "cell_type": "markdown",
      "source": [
        "# Single GPU T5\n",
        "\n",
        "In this notebook, we use a single GPU in conjunction with Hugging Face and PyTorch Lightning to train an LLM (a T5 architecture) to be able to convert integers (e.g., `2003`) into their corresponding string (e.g., `two thousand three`)."
      ],
      "metadata": {
        "id": "5OhzDJyDW7fE"
      }
    },
    {
      "cell_type": "markdown",
      "source": [
        "### Load dependencies"
      ],
      "metadata": {
        "id": "k1lzq-J3nR-q"
      }
    },
    {
      "cell_type": "code",
      "source": [
        "%%capture\n",
        "!pip install nvidia-ml-py3==7.352.0 pytorch-lightning==2.0.1.post0 transformers==4.28.0 torchvision==0.15.1 rouge-score==0.1.2 tensorboardx==2.6 accelerate==0.18.0 deepspeed==0.9.0 peft==0.2.0"
      ],
      "metadata": {
        "id": "jsQulC3nnTA6"
      },
      "execution_count": 1,
      "outputs": []
    },
    {
      "cell_type": "code",
      "source": [
        "# PyTorch autodiff library:\n",
        "import torch\n",
        "from torch.utils.data import Dataset\n",
        "from torch.utils.data import DataLoader\n",
        "\n",
        "# PyTorch Lightning for easier training:\n",
        "import pytorch_lightning as pl\n",
        "from pytorch_lightning.loggers import TensorBoardLogger\n",
        "\n",
        "# Hugging Face for model, tokenizer, and a training function:\n",
        "from transformers import T5ForConditionalGeneration\n",
        "from transformers import AutoTokenizer\n",
        "from transformers import get_linear_schedule_with_warmup\n",
        "\n",
        "# LoRA for PEFT:\n",
        "from peft import get_peft_model, LoraConfig, TaskType\n",
        "\n",
        "# Filesystem/data utilities:\n",
        "import os\n",
        "import json"
      ],
      "metadata": {
        "id": "1_SWfsBSnZI5"
      },
      "execution_count": 2,
      "outputs": []
    },
    {
      "cell_type": "markdown",
      "source": [
        "### Import helper functions"
      ],
      "metadata": {
        "id": "mtaFVsCRog-U"
      }
    },
    {
      "cell_type": "code",
      "source": [
        "!git clone https://github.com/shaankhosla/NLP_with_LLMs/\n",
        "%cd \"NLP_with_LLMs\""
      ],
      "metadata": {
        "colab": {
          "base_uri": "https://localhost:8080/"
        },
        "id": "40_LlQ69ob7l",
        "outputId": "eb87904f-229a-4f55-fab2-529b3447e81d"
      },
      "execution_count": 3,
      "outputs": [
        {
          "output_type": "stream",
          "name": "stdout",
          "text": [
            "fatal: destination path 'NLP_with_LLMs' already exists and is not an empty directory.\n",
            "/content/NLP_with_LLMs\n"
          ]
        }
      ]
    },
    {
      "cell_type": "code",
      "source": [
        "import gpu_utilities, generate_data"
      ],
      "metadata": {
        "id": "7Xvh3Tfhob-B"
      },
      "execution_count": 4,
      "outputs": []
    },
    {
      "cell_type": "markdown",
      "source": [
        "### Select a model\n",
        "\n",
        "You can read more about the T5 family of models, including options for other T5 model versions in Hugging Face [here](https://huggingface.co/docs/transformers/model_doc/t5).\n",
        "\n",
        "`T5-small` has just 60 million parameters, making it a great choice for demo purposes."
      ],
      "metadata": {
        "id": "tbcmwFgMuJx2"
      }
    },
    {
      "cell_type": "code",
      "source": [
        "MODEL_NAME = 't5-small'"
      ],
      "metadata": {
        "id": "1bdzN6mwuLx8"
      },
      "execution_count": 5,
      "outputs": []
    },
    {
      "cell_type": "markdown",
      "source": [
        "**Return to \"T5\" slide here.**"
      ],
      "metadata": {
        "id": "qNLCT7FkymJG"
      }
    },
    {
      "cell_type": "markdown",
      "source": [
        "### Generate Data"
      ],
      "metadata": {
        "id": "LToPJ91tocxa"
      }
    },
    {
      "cell_type": "code",
      "source": [
        "generate_data.main(num_train=1000, num_val=200)"
      ],
      "metadata": {
        "colab": {
          "base_uri": "https://localhost:8080/"
        },
        "id": "1IztAGnhocAU",
        "outputId": "3c513a1f-4d87-4312-b64e-5be680586da6"
      },
      "execution_count": 6,
      "outputs": [
        {
          "output_type": "stream",
          "name": "stdout",
          "text": [
            "Generating synthetic dataset (1000 train, 200 val)...\n"
          ]
        },
        {
          "output_type": "stream",
          "name": "stderr",
          "text": []
        }
      ]
    },
    {
      "cell_type": "code",
      "source": [
        "!cat './data/train/0.json'"
      ],
      "metadata": {
        "colab": {
          "base_uri": "https://localhost:8080/"
        },
        "id": "QvWfx_GBocCr",
        "outputId": "6fe4a281-9f51-43fa-df7a-917c6544a2c7"
      },
      "execution_count": 7,
      "outputs": [
        {
          "output_type": "stream",
          "name": "stdout",
          "text": [
            "{\"number\": 364, \"words\": \"three hundred sixty four\"}"
          ]
        }
      ]
    },
    {
      "cell_type": "code",
      "source": [
        "!cat './data/train/1.json'"
      ],
      "metadata": {
        "id": "_zseC_g9LVa4",
        "outputId": "717b1f86-648d-4603-b8d5-4be4b44412e3",
        "colab": {
          "base_uri": "https://localhost:8080/"
        }
      },
      "execution_count": 8,
      "outputs": [
        {
          "output_type": "stream",
          "name": "stdout",
          "text": [
            "{\"number\": 72680, \"words\": \"seventy two thousand six hundred eighty\"}"
          ]
        }
      ]
    },
    {
      "cell_type": "code",
      "source": [
        "class StreamingDataset(Dataset):\n",
        "    def __init__(self, path):\n",
        "        self.path = path\n",
        "        self.tokenizer = AutoTokenizer.from_pretrained( # automatically detects T5 and tokenizes for T5\n",
        "            MODEL_NAME, cache_dir='./cache/', use_fast=True\n",
        "        )\n",
        "\n",
        "    def __len__(self):\n",
        "        return len(os.listdir(self.path))\n",
        "\n",
        "    def encode_text(self, context, text):\n",
        "        ctext = str(context)\n",
        "        ctext = \" \".join(ctext.split())\n",
        "        text = str(text)\n",
        "        text = \" \".join(text.split())\n",
        "        source = self.tokenizer.batch_encode_plus(\n",
        "            [ctext],\n",
        "            max_length=16,\n",
        "            truncation=True,\n",
        "            # pad_to_max_length=True,\n",
        "            padding=\"max_length\",\n",
        "            return_tensors=\"pt\",\n",
        "        )\n",
        "        target = self.tokenizer.batch_encode_plus(\n",
        "            [text],\n",
        "            max_length=16,\n",
        "            truncation=True,\n",
        "            # pad_to_max_length=True,\n",
        "            padding=\"max_length\",\n",
        "            return_tensors=\"pt\",\n",
        "        )\n",
        "        y = target[\"input_ids\"]\n",
        "        target_id = y[:, :-1].contiguous()\n",
        "        target_label = y[:, 1:].clone().detach()\n",
        "        target_label[\n",
        "            y[:, 1:] == self.tokenizer.pad_token_id\n",
        "        ] = -100  # in case the labels are not provided, empty string\n",
        "        return source[\"input_ids\"], source[\"attention_mask\"], target_id, target_label\n",
        "\n",
        "    def __getitem__(self, idx):\n",
        "        file_path = os.path.join(self.path, str(idx) + \".json\")\n",
        "        with open(file_path, \"r\") as infile:\n",
        "            data = json.load(infile)\n",
        "        number, words = str(data[\"number\"]), data[\"words\"]\n",
        "        return self.encode_text(number, words)"
      ],
      "metadata": {
        "id": "Za-MuSUJocE7"
      },
      "execution_count": 9,
      "outputs": []
    },
    {
      "cell_type": "code",
      "source": [
        "train_data = StreamingDataset('./data/train/')\n",
        "val_data = StreamingDataset('./data/val')"
      ],
      "metadata": {
        "id": "NC18SR8cocHI"
      },
      "execution_count": 10,
      "outputs": []
    },
    {
      "cell_type": "markdown",
      "source": [
        "`train_data[0]` calls `StreamingDataset.__getitem__()` so this is the first time that data are being read from storage and encoded: "
      ],
      "metadata": {
        "id": "cPRwOlkvbNAw"
      }
    },
    {
      "cell_type": "code",
      "source": [
        "input_ids_i, sequence_mask_i, target_ids_i, target_label_i = train_data[0]"
      ],
      "metadata": {
        "id": "9-vSEakSaObx"
      },
      "execution_count": 11,
      "outputs": []
    },
    {
      "cell_type": "code",
      "source": [
        "input_ids_i"
      ],
      "metadata": {
        "id": "APvnwq7jacEa",
        "outputId": "6cd92804-7bce-4975-8ec7-e61c2f5538f5",
        "colab": {
          "base_uri": "https://localhost:8080/"
        }
      },
      "execution_count": 12,
      "outputs": [
        {
          "output_type": "execute_result",
          "data": {
            "text/plain": [
              "tensor([[ 220, 4389,    1,    0,    0,    0,    0,    0,    0,    0,    0,    0,\n",
              "            0,    0,    0,    0]])"
            ]
          },
          "metadata": {},
          "execution_count": 12
        }
      ]
    },
    {
      "cell_type": "code",
      "source": [
        "sequence_mask_i"
      ],
      "metadata": {
        "id": "sOuAnV7jbAbw",
        "outputId": "cf7e8b65-ac8d-4f86-9bb1-c69e2f0bfadc",
        "colab": {
          "base_uri": "https://localhost:8080/"
        }
      },
      "execution_count": 13,
      "outputs": [
        {
          "output_type": "execute_result",
          "data": {
            "text/plain": [
              "tensor([[1, 1, 1, 0, 0, 0, 0, 0, 0, 0, 0, 0, 0, 0, 0, 0]])"
            ]
          },
          "metadata": {},
          "execution_count": 13
        }
      ]
    },
    {
      "cell_type": "code",
      "source": [
        "target_ids_i"
      ],
      "metadata": {
        "id": "zUpAX--XbCK-",
        "outputId": "457cbed8-5983-438b-8eab-42e8c8cd69e2",
        "colab": {
          "base_uri": "https://localhost:8080/"
        }
      },
      "execution_count": 14,
      "outputs": [
        {
          "output_type": "execute_result",
          "data": {
            "text/plain": [
              "tensor([[  386,  6189, 27757,   662,     1,     0,     0,     0,     0,     0,\n",
              "             0,     0,     0,     0,     0]])"
            ]
          },
          "metadata": {},
          "execution_count": 14
        }
      ]
    },
    {
      "cell_type": "markdown",
      "source": [
        "`target_label` represents the correct token that the autoregressive model should be predicting and `-100` is mask token:"
      ],
      "metadata": {
        "id": "5QtwbbiOb13k"
      }
    },
    {
      "cell_type": "code",
      "source": [
        "target_label_i"
      ],
      "metadata": {
        "id": "0nDPMGu6bDJC",
        "outputId": "d0b72d26-5a81-44df-e3d6-10bc02299705",
        "colab": {
          "base_uri": "https://localhost:8080/"
        }
      },
      "execution_count": 15,
      "outputs": [
        {
          "output_type": "execute_result",
          "data": {
            "text/plain": [
              "tensor([[ 6189, 27757,   662,     1,  -100,  -100,  -100,  -100,  -100,  -100,\n",
              "          -100,  -100,  -100,  -100,  -100]])"
            ]
          },
          "metadata": {},
          "execution_count": 15
        }
      ]
    },
    {
      "cell_type": "code",
      "source": [
        "# Deconstruct individual-data-point tuples and collates into batch variables:\n",
        "def collate_fn(batch):\n",
        "    input_ids = torch.stack([torch.flatten(x[0]) for x in batch])\n",
        "    sequence_mask = torch.stack([torch.flatten(x[1]) for x in batch])\n",
        "    target_ids = torch.stack([torch.flatten(x[2]) for x in batch])\n",
        "    target_label = torch.stack([torch.flatten(x[3]) for x in batch])\n",
        "    return input_ids, sequence_mask, target_ids, target_label"
      ],
      "metadata": {
        "id": "GB4PVYY9x3eU"
      },
      "execution_count": 16,
      "outputs": []
    },
    {
      "cell_type": "markdown",
      "source": [
        "### Set up Lightning training module"
      ],
      "metadata": {
        "id": "B4HI57BGsSXA"
      }
    },
    {
      "cell_type": "code",
      "source": [
        "class T5Finetuner(pl.LightningModule):\n",
        "    def __init__(self, model, args, train_data, val_data):\n",
        "        super().__init__()\n",
        "        self.model = model\n",
        "        self.args = args\n",
        "        self.tokenizer = AutoTokenizer.from_pretrained(\n",
        "            MODEL_NAME, cache_dir='./cache/', use_fast=True\n",
        "        )\n",
        "        self.train_data, self.val_data = train_data, val_data\n",
        "\n",
        "    def forward(self, batch, batch_idx):\n",
        "        source_ids, source_mask, target_ids, target_labels = batch\n",
        "        return self.model(\n",
        "            input_ids=source_ids,\n",
        "            attention_mask=source_mask,\n",
        "            decoder_input_ids=target_ids,\n",
        "            labels=target_labels,\n",
        "        )\n",
        "\n",
        "    def training_step(self, batch, batch_idx):\n",
        "        loss = self(batch, batch_idx)[0] # self() is forward() in Lightning\n",
        "        return {'loss': loss, 'log': {'train_loss': loss}}\n",
        "\n",
        "    def validation_step(self, batch, batch_idx): # Lightning knows no backprop in validation\n",
        "        loss = self(batch, batch_idx)[0]\n",
        "        return {'loss': loss}\n",
        "\n",
        "    # data loaders provide clever optimizations like pre-fetching next-needed training data point on additional worker\n",
        "    def train_dataloader(self):\n",
        "        return DataLoader(\n",
        "            self.train_data,\n",
        "            batch_size=self.args['batch_size'],\n",
        "            num_workers=os.cpu_count(),\n",
        "            pin_memory=True,\n",
        "            collate_fn=collate_fn,\n",
        "            prefetch_factor=128, # number of samples to prefetch\n",
        "        )\n",
        "\n",
        "    def val_dataloader(self):\n",
        "        return DataLoader(\n",
        "            self.val_data,\n",
        "            batch_size=self.args['batch_size'],\n",
        "            num_workers=os.cpu_count(),\n",
        "            pin_memory=True,\n",
        "            collate_fn=collate_fn,\n",
        "            prefetch_factor=128, \n",
        "        )\n",
        "\n",
        "    def configure_optimizers(self):\n",
        "        optimizer = torch.optim.AdamW(\n",
        "            self.trainer.model.parameters(), lr=self.args['lr'], weight_decay=0.01\n",
        "        )\n",
        "        scheduler = get_linear_schedule_with_warmup(\n",
        "            optimizer,\n",
        "            num_warmup_steps=5, # initial, slow LR steps can \"warm up\" attention\n",
        "            num_training_steps=self.args['epochs']\n",
        "            * len(self.train_data)\n",
        "            / self.args['batch_size'],\n",
        "        )\n",
        "        return {\"optimizer\": optimizer, \"lr_scheduler\": scheduler}"
      ],
      "metadata": {
        "id": "HR4gdzLxocMD"
      },
      "execution_count": 17,
      "outputs": []
    },
    {
      "cell_type": "markdown",
      "source": [
        "# TO DO\n",
        "\n",
        "* add calculation of loss across all validation data"
      ],
      "metadata": {
        "id": "MT8A8rUg8HV0"
      }
    },
    {
      "cell_type": "markdown",
      "source": [
        "### Vanilla Training"
      ],
      "metadata": {
        "id": "h8DysWFRxJCZ"
      }
    },
    {
      "cell_type": "code",
      "source": [
        "hg_model = T5ForConditionalGeneration.from_pretrained(MODEL_NAME, cache_dir='./cache/')\n",
        "args = {'batch_size': 4, 'epochs': 1, 'lr': 1e-4}\n",
        "pl_model = T5Finetuner(hg_model, args, train_data, val_data)\n",
        "trainer = pl.Trainer(\n",
        "    max_epochs=args['epochs'],\n",
        ")\n",
        "trainer.fit(pl_model)\n",
        "gpu_utilities.print_gpu_utilization()"
      ],
      "metadata": {
        "colab": {
          "base_uri": "https://localhost:8080/",
          "height": 352,
          "referenced_widgets": [
            "8d0346e59c03413e8815f191f5353bba",
            "3ab85609c13844dda30a2e8ea7fcd8f8",
            "11213e99851148eaad1cacef333c0fb9",
            "397121297f2d4a09b79992abc2c76423",
            "040f9b8ee2494c838219d1cbd7f29aba",
            "9e21c39e2eb049fdbc511281d35984ad",
            "d2eeb050bd0e4704864c05510f705c4b",
            "e39c76c01bff42ce9e80665321b84e2a",
            "5714b1249bb1492ca53da717ecfc429e",
            "e45896027f1e4cedbdd0a1dfe947c526",
            "06e21632757b4dfe97d7c2faf2b961ea",
            "b39621a7892044549755df463fa8a3fc",
            "b0146cff555148c8a5fa17a42fda3a37",
            "db7a42f003cf4c2cbe500b583d534ac0",
            "426625e75db646749dcbeae668807308",
            "aee85c6a936341b7899060fc13903a1f",
            "e3dfd7f904a4418ebe54c4cdd335f2e4",
            "f04f24e655904291b2b22c0dae88c862",
            "fb22c6ffc6e54b03b01b97ee8ca42c92",
            "85a269e600114daeba94f4d1da6a846f",
            "72d69cb2f9d448ed89d988178f8cedda",
            "e9d4c577cab64eb2ba8bd3eb76748e8a",
            "083ca5660a414d0694176271fe8e2b41",
            "0cda0b2980ad41dc85188eca8ed83a6d",
            "3734803a696c49ed8a0c8bb6b21501dc",
            "d675cda81d5546c0b96821811f1d75f0",
            "ad14fdd93dac456b91966fbbe3ecbfc6",
            "5937e6ac9f634e8ea3aabbab8f182cbf",
            "57df70bac79b42fd8d08699ccaea222e",
            "d414f951a1d148aabe50dd29f6774ed1",
            "aa1278f3c4224e9eb5b395f1aa57a10b",
            "0a839206b6df44bca0dba4fee032662e",
            "158ec87473164493a87a5175b2f2815c"
          ]
        },
        "id": "14AqP34QocQI",
        "outputId": "0597c6a7-8270-4c1f-d285-ea3577565635"
      },
      "execution_count": 18,
      "outputs": [
        {
          "output_type": "stream",
          "name": "stderr",
          "text": [
            "INFO:pytorch_lightning.utilities.rank_zero:GPU available: True (cuda), used: True\n",
            "INFO:pytorch_lightning.utilities.rank_zero:TPU available: False, using: 0 TPU cores\n",
            "INFO:pytorch_lightning.utilities.rank_zero:IPU available: False, using: 0 IPUs\n",
            "INFO:pytorch_lightning.utilities.rank_zero:HPU available: False, using: 0 HPUs\n",
            "INFO:pytorch_lightning.accelerators.cuda:LOCAL_RANK: 0 - CUDA_VISIBLE_DEVICES: [0]\n",
            "INFO:pytorch_lightning.callbacks.model_summary:\n",
            "  | Name  | Type                       | Params\n",
            "-----------------------------------------------------\n",
            "0 | model | T5ForConditionalGeneration | 60.5 M\n",
            "-----------------------------------------------------\n",
            "60.5 M    Trainable params\n",
            "0         Non-trainable params\n",
            "60.5 M    Total params\n",
            "242.026   Total estimated model params size (MB)\n"
          ]
        },
        {
          "output_type": "display_data",
          "data": {
            "text/plain": [
              "Sanity Checking: 0it [00:00, ?it/s]"
            ],
            "application/vnd.jupyter.widget-view+json": {
              "version_major": 2,
              "version_minor": 0,
              "model_id": "8d0346e59c03413e8815f191f5353bba"
            }
          },
          "metadata": {}
        },
        {
          "output_type": "display_data",
          "data": {
            "text/plain": [
              "Training: 0it [00:00, ?it/s]"
            ],
            "application/vnd.jupyter.widget-view+json": {
              "version_major": 2,
              "version_minor": 0,
              "model_id": "b39621a7892044549755df463fa8a3fc"
            }
          },
          "metadata": {}
        },
        {
          "output_type": "display_data",
          "data": {
            "text/plain": [
              "Validation: 0it [00:00, ?it/s]"
            ],
            "application/vnd.jupyter.widget-view+json": {
              "version_major": 2,
              "version_minor": 0,
              "model_id": "083ca5660a414d0694176271fe8e2b41"
            }
          },
          "metadata": {}
        },
        {
          "output_type": "stream",
          "name": "stderr",
          "text": [
            "INFO:pytorch_lightning.utilities.rank_zero:`Trainer.fit` stopped: `max_epochs=1` reached.\n"
          ]
        },
        {
          "output_type": "stream",
          "name": "stdout",
          "text": [
            "Device 0 : b'Tesla T4'\n",
            "GPU memory occupied: 395 MB.\n"
          ]
        }
      ]
    },
    {
      "cell_type": "markdown",
      "source": [
        "### Predict"
      ],
      "metadata": {
        "id": "nqpaJ18f6b8N"
      }
    },
    {
      "cell_type": "code",
      "source": [
        "!cat './data/val/0.json'"
      ],
      "metadata": {
        "id": "zUsUmctTcmvp",
        "outputId": "55438f38-4df7-4993-86c8-16616d9638c5",
        "colab": {
          "base_uri": "https://localhost:8080/"
        }
      },
      "execution_count": 19,
      "outputs": [
        {
          "output_type": "stream",
          "name": "stdout",
          "text": [
            "{\"number\": -83, \"words\": \"negative eighty three\"}"
          ]
        }
      ]
    },
    {
      "cell_type": "code",
      "source": [
        "val_ids, val_mask, _, _ = val_data[0]"
      ],
      "metadata": {
        "id": "XKftPiIDdTpW"
      },
      "execution_count": 20,
      "outputs": []
    },
    {
      "cell_type": "code",
      "source": [
        "val_ids"
      ],
      "metadata": {
        "colab": {
          "base_uri": "https://localhost:8080/"
        },
        "id": "IWG1Ila27IF6",
        "outputId": "50f16ef5-61bf-4d55-eec6-ede35fd3e08a"
      },
      "execution_count": 21,
      "outputs": [
        {
          "output_type": "execute_result",
          "data": {
            "text/plain": [
              "tensor([[   3,   18, 4591,    1,    0,    0,    0,    0,    0,    0,    0,    0,\n",
              "            0,    0,    0,    0]])"
            ]
          },
          "metadata": {},
          "execution_count": 21
        }
      ]
    },
    {
      "cell_type": "code",
      "source": [
        "val_mask"
      ],
      "metadata": {
        "colab": {
          "base_uri": "https://localhost:8080/"
        },
        "id": "sHFVG_xG7KP7",
        "outputId": "2f765035-4117-4a11-89de-d1a5eb6c7482"
      },
      "execution_count": 22,
      "outputs": [
        {
          "output_type": "execute_result",
          "data": {
            "text/plain": [
              "tensor([[1, 1, 1, 1, 0, 0, 0, 0, 0, 0, 0, 0, 0, 0, 0, 0]])"
            ]
          },
          "metadata": {},
          "execution_count": 22
        }
      ]
    },
    {
      "cell_type": "code",
      "source": [
        "generated_ids = pl_model.model.generate(input_ids=val_ids, attention_mask=val_mask, max_new_tokens=16)"
      ],
      "metadata": {
        "id": "-Rb5XgjAdasu"
      },
      "execution_count": 23,
      "outputs": []
    },
    {
      "cell_type": "code",
      "source": [
        "generated_ids"
      ],
      "metadata": {
        "id": "sbPJPh5xUz18",
        "outputId": "28e39b0a-664d-4d8c-cf17-05f5575178be",
        "colab": {
          "base_uri": "https://localhost:8080/"
        }
      },
      "execution_count": 24,
      "outputs": [
        {
          "output_type": "execute_result",
          "data": {
            "text/plain": [
              "tensor([[   0,    3,   18, 4591,    1]])"
            ]
          },
          "metadata": {},
          "execution_count": 24
        }
      ]
    },
    {
      "cell_type": "code",
      "source": [
        "prediction =  [\n",
        "              pl_model.tokenizer.decode(g, skip_special_tokens=True, clean_up_tokenization_spaces=True)\n",
        "              for g in generated_ids\n",
        "              ]"
      ],
      "metadata": {
        "id": "GPPMGYrNdn-P"
      },
      "execution_count": 25,
      "outputs": []
    },
    {
      "cell_type": "code",
      "source": [
        "prediction"
      ],
      "metadata": {
        "id": "oTR3kUUxdpzj",
        "outputId": "dfea7403-d219-441c-d2e4-d3744e6d140d",
        "colab": {
          "base_uri": "https://localhost:8080/"
        }
      },
      "execution_count": 26,
      "outputs": [
        {
          "output_type": "execute_result",
          "data": {
            "text/plain": [
              "['-83']"
            ]
          },
          "metadata": {},
          "execution_count": 26
        }
      ]
    },
    {
      "cell_type": "markdown",
      "source": [
        "# TO DO\n",
        "\n",
        "* Calculate loss across all validation points again to see decrease."
      ],
      "metadata": {
        "id": "Tkh8ATbH8ekX"
      }
    },
    {
      "cell_type": "markdown",
      "source": [
        "Check out the Colab *Resources* tab, which shows GPU memory usage. With:\n",
        "* Larger model\n",
        "* Larger batch size\n",
        "* Larger input/target data\n",
        "\n",
        "...GPU memory (which is often our scarcest resource when training deep learning models) could quickly run out.\n",
        "\n",
        "We could splurge on more GPUs or we could be more clever about how we train. More on that coming up..."
      ],
      "metadata": {
        "id": "Jy9xuPzB-gSd"
      }
    },
    {
      "cell_type": "markdown",
      "source": [
        "**Return to slides here.**"
      ],
      "metadata": {
        "id": "FsVm7pt-84S0"
      }
    },
    {
      "cell_type": "markdown",
      "source": [
        "### Gradient Checkpointing"
      ],
      "metadata": {
        "id": "ssFUsMzAylWW"
      }
    },
    {
      "cell_type": "code",
      "source": [
        "hg_model = T5ForConditionalGeneration.from_pretrained(MODEL_NAME, cache_dir='./cache/')\n",
        "hg_model.gradient_checkpointing_enable()\n",
        "\n",
        "args = {'batch_size': 4, 'epochs': 1, 'lr': 1e-4}\n",
        "pl_model = T5Finetuner(hg_model, args, train_data, val_data)\n",
        "trainer = pl.Trainer(\n",
        "    max_epochs=args['epochs'],\n",
        ")\n",
        "\n",
        "trainer.fit(pl_model)\n",
        "gpu_utilities.print_gpu_utilization()"
      ],
      "metadata": {
        "id": "5lsgTmpbymql"
      },
      "execution_count": null,
      "outputs": []
    },
    {
      "cell_type": "markdown",
      "source": [
        "### Gradient Accumulation"
      ],
      "metadata": {
        "id": "Dlyb-PldzKyW"
      }
    },
    {
      "cell_type": "code",
      "source": [
        "hg_model = T5ForConditionalGeneration.from_pretrained(MODEL_NAME, cache_dir='./cache/')\n",
        "hg_model.gradient_checkpointing_enable()\n",
        "\n",
        "args = {'batch_size': 4, 'epochs': 1, 'lr': 1e-4}\n",
        "pl_model = T5Finetuner(hg_model, args, train_data, val_data)\n",
        "\n",
        "trainer = pl.Trainer(\n",
        "    max_epochs=args['epochs'],\n",
        "    accumulate_grad_batches=4,\n",
        ")\n",
        "trainer.fit(pl_model)\n",
        "gpu_utilities.print_gpu_utilization()"
      ],
      "metadata": {
        "id": "E5ydTmE_yw63"
      },
      "execution_count": null,
      "outputs": []
    },
    {
      "cell_type": "markdown",
      "source": [
        "### Mixed Precision"
      ],
      "metadata": {
        "id": "Aw-Z8hjvyxLi"
      }
    },
    {
      "cell_type": "code",
      "source": [
        "hg_model = T5ForConditionalGeneration.from_pretrained(MODEL_NAME, cache_dir='./cache/')\n",
        "hg_model.gradient_checkpointing_enable()\n",
        "\n",
        "args = {'batch_size': 4, 'epochs': 1, 'lr': 1e-4}\n",
        "pl_model = T5Finetuner(hg_model, args, train_data, val_data)\n",
        "\n",
        "trainer = pl.Trainer(\n",
        "    max_epochs=args['epochs'],\n",
        "    precision=\"16-mixed\",\n",
        "    accumulate_grad_batches=4,\n",
        ")\n",
        "trainer.fit(pl_model)\n",
        "gpu_utilities.print_gpu_utilization()"
      ],
      "metadata": {
        "id": "YJu6AZroyyNd"
      },
      "execution_count": null,
      "outputs": []
    },
    {
      "cell_type": "markdown",
      "source": [
        "### PEFT with LoRA\n",
        " \n",
        "Parameter-Efficient Fine-Tuning with Low-Rank Adaptation"
      ],
      "metadata": {
        "id": "hH4Ey4LCzJRR"
      }
    },
    {
      "cell_type": "code",
      "source": [
        "hg_model = T5ForConditionalGeneration.from_pretrained(MODEL_NAME, cache_dir='./cache/')\n",
        "hg_model.enable_input_require_grads()\n",
        "peft_config = LoraConfig(\n",
        "    task_type=TaskType.SEQ_2_SEQ_LM,\n",
        "    inference_mode=False,\n",
        "    r=8,\n",
        "    lora_alpha=32,\n",
        "    lora_dropout=0.1,\n",
        ")\n",
        "hg_model = get_peft_model(hg_model, peft_config)\n",
        "hg_model.print_trainable_parameters()"
      ],
      "metadata": {
        "id": "qYO2fFPnzako"
      },
      "execution_count": null,
      "outputs": []
    },
    {
      "cell_type": "code",
      "source": [
        "hg_model.gradient_checkpointing_enable()\n",
        "\n",
        "args = {'batch_size': 4, 'epochs': 1, 'lr': 1e-4}\n",
        "pl_model = T5Finetuner(hg_model, args, train_data, val_data)\n",
        "\n",
        "trainer = pl.Trainer(\n",
        "    max_epochs=args['epochs'],\n",
        "    precision=\"16-mixed\",\n",
        "    accumulate_grad_batches=4,\n",
        ")\n",
        "trainer.fit(pl_model)\n",
        "gpu_utilities.print_gpu_utilization()"
      ],
      "metadata": {
        "id": "ay6bmBGTzmW1"
      },
      "execution_count": null,
      "outputs": []
    }
  ]
}