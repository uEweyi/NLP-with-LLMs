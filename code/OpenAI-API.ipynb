{
  "nbformat": 4,
  "nbformat_minor": 0,
  "metadata": {
    "colab": {
      "provenance": [],
      "authorship_tag": "ABX9TyNWVQ13kV+SPVbKCoDo+xO4",
      "include_colab_link": true
    },
    "kernelspec": {
      "name": "python3",
      "display_name": "Python 3"
    },
    "language_info": {
      "name": "python"
    }
  },
  "cells": [
    {
      "cell_type": "markdown",
      "metadata": {
        "id": "view-in-github",
        "colab_type": "text"
      },
      "source": [
        "<a href=\"https://colab.research.google.com/github/jonkrohn/NLP-with-LLMs/blob/main/code/OpenAI-API.ipynb\" target=\"_parent\"><img src=\"https://colab.research.google.com/assets/colab-badge.svg\" alt=\"Open In Colab\"/></a>"
      ]
    },
    {
      "cell_type": "markdown",
      "source": [
        "# OpenAI API\n",
        "\n",
        "In this notebook (using code from [this blog post](https://medium.com/codingthesmartway-com-blog/unlocking-the-power-of-gpt-4-api-a-beginners-guide-for-developers-a4baef2b5a81)), we chat with GPT-4-Turbo via the OpenAI API.\n",
        "\n",
        "Create your API key [here](https://platform.openai.com/account/api-keys) if you don't already have one."
      ],
      "metadata": {
        "id": "prVML98XnLhF"
      }
    },
    {
      "cell_type": "markdown",
      "source": [
        "### Load dependencies"
      ],
      "metadata": {
        "id": "blkPf_jKwrcv"
      }
    },
    {
      "cell_type": "code",
      "source": [
        "import requests\n",
        "import json"
      ],
      "metadata": {
        "id": "gyPuepHVjdrQ"
      },
      "execution_count": null,
      "outputs": []
    },
    {
      "cell_type": "markdown",
      "source": [
        "### Secret key\n",
        "\n",
        "You only need to use this section if you don't want to put your API key in your code."
      ],
      "metadata": {
        "id": "uVKnKeAhwvk8"
      }
    },
    {
      "cell_type": "code",
      "source": [
        "import getpass"
      ],
      "metadata": {
        "id": "S2J5uIK_uMKq"
      },
      "execution_count": null,
      "outputs": []
    },
    {
      "cell_type": "code",
      "source": [
        "from getpass import getpass"
      ],
      "metadata": {
        "id": "vHWXQcJmuOO3"
      },
      "execution_count": null,
      "outputs": []
    },
    {
      "cell_type": "code",
      "source": [
        "secret_key = getpass('Enter OpenAI API key:')"
      ],
      "metadata": {
        "colab": {
          "base_uri": "https://localhost:8080/"
        },
        "id": "KQRNzxQzuTUK",
        "outputId": "5f514ec1-b6de-4a68-b3c8-4de138365351"
      },
      "execution_count": 4,
      "outputs": [
        {
          "name": "stdout",
          "output_type": "stream",
          "text": [
            "Enter OpenAI API key:··········\n"
          ]
        }
      ]
    },
    {
      "cell_type": "markdown",
      "source": [
        "### Create chat function"
      ],
      "metadata": {
        "id": "PPS35grmxB-9"
      }
    },
    {
      "cell_type": "code",
      "source": [
        "API_ENDPOINT = \"https://api.openai.com/v1/chat/completions\"\n",
        "API_KEY = secret_key\n",
        "## Alternatively, you can hard code your API key:\n",
        "# API_KEY = \"<YOUR-KEY-HERE>\""
      ],
      "metadata": {
        "id": "DS5AmN9KiGGL"
      },
      "execution_count": 5,
      "outputs": []
    },
    {
      "cell_type": "code",
      "source": [
        "def generate_chat_completion(messages,\n",
        "                             model=\"gpt-4-turbo\",\n",
        "                             temperature=1, # controls randomness; higher = more random; range = 0-5\n",
        "                             max_tokens=None):\n",
        "\n",
        "    headers = {\n",
        "        \"Content-Type\": \"application/json\",\n",
        "        \"Authorization\": f\"Bearer {API_KEY}\",\n",
        "    }\n",
        "\n",
        "    data = {\n",
        "        \"model\": model,\n",
        "        \"messages\": messages,\n",
        "        \"temperature\": temperature,\n",
        "    }\n",
        "\n",
        "    if max_tokens is not None:\n",
        "        data[\"max_tokens\"] = max_tokens\n",
        "\n",
        "    response = requests.post(API_ENDPOINT, headers=headers, data=json.dumps(data))\n",
        "\n",
        "    if response.status_code == 200: # 200 = request OK!\n",
        "        return response.json()[\"choices\"][0][\"message\"][\"content\"]\n",
        "    else:\n",
        "        raise Exception(f\"Error {response.status_code}: {response.text}\")"
      ],
      "metadata": {
        "id": "nQ9z1ZgTjhyT"
      },
      "execution_count": 7,
      "outputs": []
    },
    {
      "cell_type": "markdown",
      "source": [
        "### Generate chat completion"
      ],
      "metadata": {
        "id": "3h9W5a3jxLZb"
      }
    },
    {
      "cell_type": "code",
      "source": [
        "messages = [\n",
        "    {\"role\": \"system\", \"content\": \"You are a helpful assistant.\"}, # optional but helps set behavior\n",
        "    {\"role\": \"user\", \"content\": \"Write a sentence about Jon Krohn where every word begins with the next letter of the alphabet, starting with the letter A.\"}\n",
        "]"
      ],
      "metadata": {
        "id": "X6qKtSpIjpk9"
      },
      "execution_count": 8,
      "outputs": []
    },
    {
      "cell_type": "code",
      "source": [
        "generate_chat_completion(messages)"
      ],
      "metadata": {
        "colab": {
          "base_uri": "https://localhost:8080/",
          "height": 36
        },
        "id": "MWEWxNWSjuo7",
        "outputId": "58d6ebf9-210a-429b-8393-d8a5012b059c"
      },
      "execution_count": 9,
      "outputs": [
        {
          "output_type": "execute_result",
          "data": {
            "text/plain": [
              "'\"Jon Krohn adeptly builds complex deep-learning ecosystems for global healthcare innovation journeys.\"'"
            ],
            "application/vnd.google.colaboratory.intrinsic+json": {
              "type": "string"
            }
          },
          "metadata": {},
          "execution_count": 9
        }
      ]
    }
  ]
}