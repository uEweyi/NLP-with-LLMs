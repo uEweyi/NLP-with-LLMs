{
  "nbformat": 4,
  "nbformat_minor": 0,
  "metadata": {
    "colab": {
      "provenance": [],
      "authorship_tag": "ABX9TyOuu+VqPfzfeEZttg/cFxRQ",
      "include_colab_link": true
    },
    "kernelspec": {
      "name": "python3",
      "display_name": "Python 3"
    },
    "language_info": {
      "name": "python"
    }
  },
  "cells": [
    {
      "cell_type": "markdown",
      "metadata": {
        "id": "view-in-github",
        "colab_type": "text"
      },
      "source": [
        "<a href=\"https://colab.research.google.com/github/jonkrohn/NLP-with-LLMs/blob/main/IMDB_GPU_demo.ipynb\" target=\"_parent\"><img src=\"https://colab.research.google.com/assets/colab-badge.svg\" alt=\"Open In Colab\"/></a>"
      ]
    },
    {
      "cell_type": "code",
      "execution_count": 1,
      "metadata": {
        "id": "Lkdbe2Fl-Nks"
      },
      "outputs": [],
      "source": [
        "%%capture\n",
        "!pip install transformers==4.25.1 datasets==2.4.0 nvidia-ml-py3==7.352.0 lime torchvision"
      ]
    },
    {
      "cell_type": "code",
      "source": [
        "# PyTorch:\n",
        "import torch\n",
        "import torch.nn.functional as F\n",
        "\n",
        "# Hugging Face:\n",
        "from datasets import load_dataset\n",
        "from transformers import (\n",
        "    Trainer,\n",
        "    TrainingArguments,\n",
        "    DataCollatorWithPadding,\n",
        "    GPT2ForSequenceClassification,\n",
        "    GPT2Tokenizer,\n",
        ")\n",
        "\n",
        "# NVIDIA Management Library (for tracking GPU usage):\n",
        "from pynvml import (\n",
        "    nvmlInit,\n",
        "    nvmlDeviceGetHandleByIndex,\n",
        "    nvmlDeviceGetMemoryInfo,\n",
        "    nvmlDeviceGetCount,\n",
        "    nvmlDeviceGetName,\n",
        ")\n",
        "\n",
        "# Explainability:\n",
        "from lime.lime_text import LimeTextExplainer\n",
        "import random"
      ],
      "metadata": {
        "id": "rqHnouPG_asl"
      },
      "execution_count": 2,
      "outputs": []
    },
    {
      "cell_type": "code",
      "source": [],
      "metadata": {
        "id": "iNYjRMw-B4a1"
      },
      "execution_count": null,
      "outputs": []
    }
  ]
}